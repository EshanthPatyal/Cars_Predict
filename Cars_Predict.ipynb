{
 "cells": [
  {
   "cell_type": "code",
   "execution_count": 1,
   "id": "1af67ae2",
   "metadata": {},
   "outputs": [],
   "source": [
    "import pandas as pd\n",
    "import numpy as np"
   ]
  },
  {
   "cell_type": "code",
   "execution_count": 2,
   "id": "f124f513",
   "metadata": {},
   "outputs": [],
   "source": [
    "import seaborn as sns\n",
    "import matplotlib.pyplot as plt\n"
   ]
  },
  {
   "cell_type": "code",
   "execution_count": 3,
   "id": "f5860fea",
   "metadata": {},
   "outputs": [],
   "source": [
    "%matplotlib inline\n"
   ]
  },
  {
   "cell_type": "code",
   "execution_count": 4,
   "id": "2cabcf2d",
   "metadata": {},
   "outputs": [],
   "source": [
    "df=pd.read_csv('cars_engage_2022.csv')"
   ]
  },
  {
   "cell_type": "code",
   "execution_count": 5,
   "id": "dd86b0dd",
   "metadata": {},
   "outputs": [],
   "source": [
    "df2=df[['Make','Model',                                \n",
    "'Variant','Cylinder_Configuration',\n",
    "'Drivetrain',\n",
    "'Engine_Location',\n",
    "'Front_Brakes',\n",
    "'Rear_Brakes',\n",
    "'Front_Suspension',\n",
    "'Rear_Suspension',\n",
    "'Power_Steering',\n",
    "'Power_Windows',\n",
    "'Type',\n",
    "'Wheels_Size',\n",
    "'Handbrake',\n",
    "'Sun_Visor',\n",
    "        'Height',\n",
    "        'Doors',\n",
    "        'Length',\n",
    "'Ventilation_System',\n",
    "'Ex-Showroom_Price']]"
   ]
  },
  {
   "cell_type": "code",
   "execution_count": 6,
   "id": "afbd317d",
   "metadata": {},
   "outputs": [
    {
     "data": {
      "text/html": [
       "<div>\n",
       "<style scoped>\n",
       "    .dataframe tbody tr th:only-of-type {\n",
       "        vertical-align: middle;\n",
       "    }\n",
       "\n",
       "    .dataframe tbody tr th {\n",
       "        vertical-align: top;\n",
       "    }\n",
       "\n",
       "    .dataframe thead th {\n",
       "        text-align: right;\n",
       "    }\n",
       "</style>\n",
       "<table border=\"1\" class=\"dataframe\">\n",
       "  <thead>\n",
       "    <tr style=\"text-align: right;\">\n",
       "      <th></th>\n",
       "      <th>Make</th>\n",
       "      <th>Model</th>\n",
       "      <th>Variant</th>\n",
       "      <th>Cylinder_Configuration</th>\n",
       "      <th>Drivetrain</th>\n",
       "      <th>Engine_Location</th>\n",
       "      <th>Front_Brakes</th>\n",
       "      <th>Rear_Brakes</th>\n",
       "      <th>Front_Suspension</th>\n",
       "      <th>Rear_Suspension</th>\n",
       "      <th>...</th>\n",
       "      <th>Power_Windows</th>\n",
       "      <th>Type</th>\n",
       "      <th>Wheels_Size</th>\n",
       "      <th>Handbrake</th>\n",
       "      <th>Sun_Visor</th>\n",
       "      <th>Height</th>\n",
       "      <th>Doors</th>\n",
       "      <th>Length</th>\n",
       "      <th>Ventilation_System</th>\n",
       "      <th>Ex-Showroom_Price</th>\n",
       "    </tr>\n",
       "  </thead>\n",
       "  <tbody>\n",
       "    <tr>\n",
       "      <th>0</th>\n",
       "      <td>Tata</td>\n",
       "      <td>Nano Genx</td>\n",
       "      <td>Xt</td>\n",
       "      <td>In-line</td>\n",
       "      <td>RWD (Rear Wheel Drive)</td>\n",
       "      <td>Rear, Transverse</td>\n",
       "      <td>Drum</td>\n",
       "      <td>Drum</td>\n",
       "      <td>Independent, Lower Wishbone, McPherson Strut w...</td>\n",
       "      <td>Independent, Semi Trailing arm with coil sprin...</td>\n",
       "      <td>...</td>\n",
       "      <td>Only Front Windows</td>\n",
       "      <td>Manual</td>\n",
       "      <td>4 B X 12</td>\n",
       "      <td>Manual</td>\n",
       "      <td>Driver &amp; Front Passenger</td>\n",
       "      <td>1652 mm</td>\n",
       "      <td>5.0</td>\n",
       "      <td>3164 mm</td>\n",
       "      <td>Manual Air conditioning with cooling and heating</td>\n",
       "      <td>Rs. 2,92,667</td>\n",
       "    </tr>\n",
       "    <tr>\n",
       "      <th>1</th>\n",
       "      <td>Tata</td>\n",
       "      <td>Nano Genx</td>\n",
       "      <td>Xe</td>\n",
       "      <td>In-line</td>\n",
       "      <td>RWD (Rear Wheel Drive)</td>\n",
       "      <td>Rear, Transverse</td>\n",
       "      <td>Drum</td>\n",
       "      <td>Drum</td>\n",
       "      <td>Independent, Lower Wishbone, McPherson Strut w...</td>\n",
       "      <td>Independent, Semi Trailing arm with coil sprin...</td>\n",
       "      <td>...</td>\n",
       "      <td>NaN</td>\n",
       "      <td>Manual</td>\n",
       "      <td>4 B X 12</td>\n",
       "      <td>Manual</td>\n",
       "      <td>Driver &amp; Front Passenger</td>\n",
       "      <td>1652 mm</td>\n",
       "      <td>5.0</td>\n",
       "      <td>3164 mm</td>\n",
       "      <td>NaN</td>\n",
       "      <td>Rs. 2,36,447</td>\n",
       "    </tr>\n",
       "    <tr>\n",
       "      <th>2</th>\n",
       "      <td>Tata</td>\n",
       "      <td>Nano Genx</td>\n",
       "      <td>Emax Xm</td>\n",
       "      <td>In-line</td>\n",
       "      <td>RWD (Rear Wheel Drive)</td>\n",
       "      <td>Rear, Transverse</td>\n",
       "      <td>Drum</td>\n",
       "      <td>Drum</td>\n",
       "      <td>Independent, Lower Wishbone, McPherson Strut w...</td>\n",
       "      <td>Independent, Semi Trailing arm with coil sprin...</td>\n",
       "      <td>...</td>\n",
       "      <td>NaN</td>\n",
       "      <td>Manual</td>\n",
       "      <td>4 B X 12</td>\n",
       "      <td>Manual</td>\n",
       "      <td>Driver &amp; Front Passenger</td>\n",
       "      <td>1652 mm</td>\n",
       "      <td>4.0</td>\n",
       "      <td>3164 mm</td>\n",
       "      <td>Air Conditioning with cooling only</td>\n",
       "      <td>Rs. 2,96,661</td>\n",
       "    </tr>\n",
       "    <tr>\n",
       "      <th>3</th>\n",
       "      <td>Tata</td>\n",
       "      <td>Nano Genx</td>\n",
       "      <td>Xta</td>\n",
       "      <td>In-line</td>\n",
       "      <td>RWD (Rear Wheel Drive)</td>\n",
       "      <td>Rear, Transverse</td>\n",
       "      <td>Drum</td>\n",
       "      <td>Drum</td>\n",
       "      <td>Independent, Lower Wishbone, McPherson Strut w...</td>\n",
       "      <td>Independent, Semi Trailing arm with coil sprin...</td>\n",
       "      <td>...</td>\n",
       "      <td>Only Front Windows</td>\n",
       "      <td>Automatic</td>\n",
       "      <td>4 B X 12</td>\n",
       "      <td>Manual</td>\n",
       "      <td>Driver &amp; Front Passenger</td>\n",
       "      <td>1652 mm</td>\n",
       "      <td>5.0</td>\n",
       "      <td>3164 mm</td>\n",
       "      <td>Manual Air conditioning with cooling and heating</td>\n",
       "      <td>Rs. 3,34,768</td>\n",
       "    </tr>\n",
       "    <tr>\n",
       "      <th>4</th>\n",
       "      <td>Tata</td>\n",
       "      <td>Nano Genx</td>\n",
       "      <td>Xm</td>\n",
       "      <td>In-line</td>\n",
       "      <td>RWD (Rear Wheel Drive)</td>\n",
       "      <td>Rear, Transverse</td>\n",
       "      <td>Drum</td>\n",
       "      <td>Drum</td>\n",
       "      <td>Independent, Lower Wishbone, McPherson Strut w...</td>\n",
       "      <td>Independent, Semi Trailing arm with coil sprin...</td>\n",
       "      <td>...</td>\n",
       "      <td>NaN</td>\n",
       "      <td>Manual</td>\n",
       "      <td>4 B X 12</td>\n",
       "      <td>Manual</td>\n",
       "      <td>Driver &amp; Front Passenger</td>\n",
       "      <td>1652 mm</td>\n",
       "      <td>5.0</td>\n",
       "      <td>3164 mm</td>\n",
       "      <td>Air Conditioning with cooling only</td>\n",
       "      <td>Rs. 2,72,223</td>\n",
       "    </tr>\n",
       "  </tbody>\n",
       "</table>\n",
       "<p>5 rows × 21 columns</p>\n",
       "</div>"
      ],
      "text/plain": [
       "   Make      Model  Variant Cylinder_Configuration              Drivetrain  \\\n",
       "0  Tata  Nano Genx       Xt                In-line  RWD (Rear Wheel Drive)   \n",
       "1  Tata  Nano Genx       Xe                In-line  RWD (Rear Wheel Drive)   \n",
       "2  Tata  Nano Genx  Emax Xm                In-line  RWD (Rear Wheel Drive)   \n",
       "3  Tata  Nano Genx      Xta                In-line  RWD (Rear Wheel Drive)   \n",
       "4  Tata  Nano Genx       Xm                In-line  RWD (Rear Wheel Drive)   \n",
       "\n",
       "    Engine_Location Front_Brakes Rear_Brakes  \\\n",
       "0  Rear, Transverse         Drum        Drum   \n",
       "1  Rear, Transverse         Drum        Drum   \n",
       "2  Rear, Transverse         Drum        Drum   \n",
       "3  Rear, Transverse         Drum        Drum   \n",
       "4  Rear, Transverse         Drum        Drum   \n",
       "\n",
       "                                    Front_Suspension  \\\n",
       "0  Independent, Lower Wishbone, McPherson Strut w...   \n",
       "1  Independent, Lower Wishbone, McPherson Strut w...   \n",
       "2  Independent, Lower Wishbone, McPherson Strut w...   \n",
       "3  Independent, Lower Wishbone, McPherson Strut w...   \n",
       "4  Independent, Lower Wishbone, McPherson Strut w...   \n",
       "\n",
       "                                     Rear_Suspension  ...       Power_Windows  \\\n",
       "0  Independent, Semi Trailing arm with coil sprin...  ...  Only Front Windows   \n",
       "1  Independent, Semi Trailing arm with coil sprin...  ...                 NaN   \n",
       "2  Independent, Semi Trailing arm with coil sprin...  ...                 NaN   \n",
       "3  Independent, Semi Trailing arm with coil sprin...  ...  Only Front Windows   \n",
       "4  Independent, Semi Trailing arm with coil sprin...  ...                 NaN   \n",
       "\n",
       "        Type Wheels_Size Handbrake                 Sun_Visor   Height Doors  \\\n",
       "0     Manual    4 B X 12    Manual  Driver & Front Passenger  1652 mm   5.0   \n",
       "1     Manual    4 B X 12    Manual  Driver & Front Passenger  1652 mm   5.0   \n",
       "2     Manual    4 B X 12    Manual  Driver & Front Passenger  1652 mm   4.0   \n",
       "3  Automatic    4 B X 12    Manual  Driver & Front Passenger  1652 mm   5.0   \n",
       "4     Manual    4 B X 12    Manual  Driver & Front Passenger  1652 mm   5.0   \n",
       "\n",
       "    Length                                Ventilation_System Ex-Showroom_Price  \n",
       "0  3164 mm  Manual Air conditioning with cooling and heating      Rs. 2,92,667  \n",
       "1  3164 mm                                               NaN      Rs. 2,36,447  \n",
       "2  3164 mm                Air Conditioning with cooling only      Rs. 2,96,661  \n",
       "3  3164 mm  Manual Air conditioning with cooling and heating      Rs. 3,34,768  \n",
       "4  3164 mm                Air Conditioning with cooling only      Rs. 2,72,223  \n",
       "\n",
       "[5 rows x 21 columns]"
      ]
     },
     "execution_count": 6,
     "metadata": {},
     "output_type": "execute_result"
    }
   ],
   "source": [
    "df2.head()\n"
   ]
  },
  {
   "cell_type": "code",
   "execution_count": 7,
   "id": "16aab2f7",
   "metadata": {},
   "outputs": [
    {
     "data": {
      "text/plain": [
       "Make                      75\n",
       "Model                      0\n",
       "Variant                    0\n",
       "Cylinder_Configuration    13\n",
       "Drivetrain                 7\n",
       "Engine_Location           43\n",
       "Front_Brakes              25\n",
       "Rear_Brakes               25\n",
       "Front_Suspension          59\n",
       "Rear_Suspension           46\n",
       "Power_Steering            57\n",
       "Power_Windows             97\n",
       "Type                       1\n",
       "Wheels_Size               56\n",
       "Handbrake                 57\n",
       "Sun_Visor                 62\n",
       "Height                     1\n",
       "Doors                      4\n",
       "Length                     0\n",
       "Ventilation_System        35\n",
       "Ex-Showroom_Price          0\n",
       "dtype: int64"
      ]
     },
     "execution_count": 7,
     "metadata": {},
     "output_type": "execute_result"
    }
   ],
   "source": [
    "df2.isnull().sum()"
   ]
  },
  {
   "cell_type": "code",
   "execution_count": 8,
   "id": "dff0c95e",
   "metadata": {},
   "outputs": [
    {
     "data": {
      "text/plain": [
       "<AxesSubplot:>"
      ]
     },
     "execution_count": 8,
     "metadata": {},
     "output_type": "execute_result"
    },
    {
     "data": {
      "image/png": "[encoded data removed]",
      "text/plain": [
       "<Figure size 432x288 with 1 Axes>"
      ]
     },
     "metadata": {
      "needs_background": "light"
     },
     "output_type": "display_data"
    }
   ],
   "source": [
    "sns.heatmap(df2.isnull(), cbar=False)\n"
   ]
  },
  {
   "cell_type": "code",
   "execution_count": 9,
   "id": "cbd262c5",
   "metadata": {},
   "outputs": [
    {
     "name": "stderr",
     "output_type": "stream",
     "text": [
      "C:\\Users\\anwes\\AppData\\Local\\Temp\\ipykernel_6620\\4206597361.py:1: FutureWarning: The default value of regex will change from True to False in a future version.\n",
      "  df2['Ex-Showroom_Price']=df2['Ex-Showroom_Price'].str.replace('Rs. ',\" \").str.replace(',','')\n",
      "C:\\Users\\anwes\\AppData\\Local\\Temp\\ipykernel_6620\\4206597361.py:1: SettingWithCopyWarning: \n",
      "A value is trying to be set on a copy of a slice from a DataFrame.\n",
      "Try using .loc[row_indexer,col_indexer] = value instead\n",
      "\n",
      "See the caveats in the documentation: https://pandas.pydata.org/pandas-docs/stable/user_guide/indexing.html#returning-a-view-versus-a-copy\n",
      "  df2['Ex-Showroom_Price']=df2['Ex-Showroom_Price'].str.replace('Rs. ',\" \").str.replace(',','')\n",
      "C:\\Users\\anwes\\AppData\\Local\\Temp\\ipykernel_6620\\4206597361.py:2: SettingWithCopyWarning: \n",
      "A value is trying to be set on a copy of a slice from a DataFrame.\n",
      "Try using .loc[row_indexer,col_indexer] = value instead\n",
      "\n",
      "See the caveats in the documentation: https://pandas.pydata.org/pandas-docs/stable/user_guide/indexing.html#returning-a-view-versus-a-copy\n",
      "  df2['Height']=df2['Height'].str.replace('mm','')\n",
      "C:\\Users\\anwes\\AppData\\Local\\Temp\\ipykernel_6620\\4206597361.py:3: SettingWithCopyWarning: \n",
      "A value is trying to be set on a copy of a slice from a DataFrame.\n",
      "Try using .loc[row_indexer,col_indexer] = value instead\n",
      "\n",
      "See the caveats in the documentation: https://pandas.pydata.org/pandas-docs/stable/user_guide/indexing.html#returning-a-view-versus-a-copy\n",
      "  df2['Length']=df2['Length'].str.replace('mm','')\n"
     ]
    }
   ],
   "source": [
    "df2['Ex-Showroom_Price']=df2['Ex-Showroom_Price'].str.replace('Rs. ',\" \").str.replace(',','')\n",
    "df2['Height']=df2['Height'].str.replace('mm','')\n",
    "df2['Length']=df2['Length'].str.replace('mm','')\n"
   ]
  },
  {
   "cell_type": "code",
   "execution_count": 10,
   "id": "5214b7f0",
   "metadata": {
    "scrolled": false
   },
   "outputs": [
    {
     "data": {
      "text/html": [
       "<div>\n",
       "<style scoped>\n",
       "    .dataframe tbody tr th:only-of-type {\n",
       "        vertical-align: middle;\n",
       "    }\n",
       "\n",
       "    .dataframe tbody tr th {\n",
       "        vertical-align: top;\n",
       "    }\n",
       "\n",
       "    .dataframe thead th {\n",
       "        text-align: right;\n",
       "    }\n",
       "</style>\n",
       "<table border=\"1\" class=\"dataframe\">\n",
       "  <thead>\n",
       "    <tr style=\"text-align: right;\">\n",
       "      <th></th>\n",
       "      <th>Make</th>\n",
       "      <th>Model</th>\n",
       "      <th>Variant</th>\n",
       "      <th>Cylinder_Configuration</th>\n",
       "      <th>Drivetrain</th>\n",
       "      <th>Engine_Location</th>\n",
       "      <th>Front_Brakes</th>\n",
       "      <th>Rear_Brakes</th>\n",
       "      <th>Front_Suspension</th>\n",
       "      <th>Rear_Suspension</th>\n",
       "      <th>...</th>\n",
       "      <th>Power_Windows</th>\n",
       "      <th>Type</th>\n",
       "      <th>Wheels_Size</th>\n",
       "      <th>Handbrake</th>\n",
       "      <th>Sun_Visor</th>\n",
       "      <th>Height</th>\n",
       "      <th>Doors</th>\n",
       "      <th>Length</th>\n",
       "      <th>Ventilation_System</th>\n",
       "      <th>Ex-Showroom_Price</th>\n",
       "    </tr>\n",
       "  </thead>\n",
       "  <tbody>\n",
       "    <tr>\n",
       "      <th>0</th>\n",
       "      <td>Tata</td>\n",
       "      <td>Nano Genx</td>\n",
       "      <td>Xt</td>\n",
       "      <td>In-line</td>\n",
       "      <td>RWD (Rear Wheel Drive)</td>\n",
       "      <td>Rear, Transverse</td>\n",
       "      <td>Drum</td>\n",
       "      <td>Drum</td>\n",
       "      <td>Independent, Lower Wishbone, McPherson Strut w...</td>\n",
       "      <td>Independent, Semi Trailing arm with coil sprin...</td>\n",
       "      <td>...</td>\n",
       "      <td>Only Front Windows</td>\n",
       "      <td>Manual</td>\n",
       "      <td>4 B X 12</td>\n",
       "      <td>Manual</td>\n",
       "      <td>Driver &amp; Front Passenger</td>\n",
       "      <td>1652</td>\n",
       "      <td>5.0</td>\n",
       "      <td>3164</td>\n",
       "      <td>Manual Air conditioning with cooling and heating</td>\n",
       "      <td>292667</td>\n",
       "    </tr>\n",
       "    <tr>\n",
       "      <th>1</th>\n",
       "      <td>Tata</td>\n",
       "      <td>Nano Genx</td>\n",
       "      <td>Xe</td>\n",
       "      <td>In-line</td>\n",
       "      <td>RWD (Rear Wheel Drive)</td>\n",
       "      <td>Rear, Transverse</td>\n",
       "      <td>Drum</td>\n",
       "      <td>Drum</td>\n",
       "      <td>Independent, Lower Wishbone, McPherson Strut w...</td>\n",
       "      <td>Independent, Semi Trailing arm with coil sprin...</td>\n",
       "      <td>...</td>\n",
       "      <td>NaN</td>\n",
       "      <td>Manual</td>\n",
       "      <td>4 B X 12</td>\n",
       "      <td>Manual</td>\n",
       "      <td>Driver &amp; Front Passenger</td>\n",
       "      <td>1652</td>\n",
       "      <td>5.0</td>\n",
       "      <td>3164</td>\n",
       "      <td>NaN</td>\n",
       "      <td>236447</td>\n",
       "    </tr>\n",
       "    <tr>\n",
       "      <th>2</th>\n",
       "      <td>Tata</td>\n",
       "      <td>Nano Genx</td>\n",
       "      <td>Emax Xm</td>\n",
       "      <td>In-line</td>\n",
       "      <td>RWD (Rear Wheel Drive)</td>\n",
       "      <td>Rear, Transverse</td>\n",
       "      <td>Drum</td>\n",
       "      <td>Drum</td>\n",
       "      <td>Independent, Lower Wishbone, McPherson Strut w...</td>\n",
       "      <td>Independent, Semi Trailing arm with coil sprin...</td>\n",
       "      <td>...</td>\n",
       "      <td>NaN</td>\n",
       "      <td>Manual</td>\n",
       "      <td>4 B X 12</td>\n",
       "      <td>Manual</td>\n",
       "      <td>Driver &amp; Front Passenger</td>\n",
       "      <td>1652</td>\n",
       "      <td>4.0</td>\n",
       "      <td>3164</td>\n",
       "      <td>Air Conditioning with cooling only</td>\n",
       "      <td>296661</td>\n",
       "    </tr>\n",
       "    <tr>\n",
       "      <th>3</th>\n",
       "      <td>Tata</td>\n",
       "      <td>Nano Genx</td>\n",
       "      <td>Xta</td>\n",
       "      <td>In-line</td>\n",
       "      <td>RWD (Rear Wheel Drive)</td>\n",
       "      <td>Rear, Transverse</td>\n",
       "      <td>Drum</td>\n",
       "      <td>Drum</td>\n",
       "      <td>Independent, Lower Wishbone, McPherson Strut w...</td>\n",
       "      <td>Independent, Semi Trailing arm with coil sprin...</td>\n",
       "      <td>...</td>\n",
       "      <td>Only Front Windows</td>\n",
       "      <td>Automatic</td>\n",
       "      <td>4 B X 12</td>\n",
       "      <td>Manual</td>\n",
       "      <td>Driver &amp; Front Passenger</td>\n",
       "      <td>1652</td>\n",
       "      <td>5.0</td>\n",
       "      <td>3164</td>\n",
       "      <td>Manual Air conditioning with cooling and heating</td>\n",
       "      <td>334768</td>\n",
       "    </tr>\n",
       "    <tr>\n",
       "      <th>4</th>\n",
       "      <td>Tata</td>\n",
       "      <td>Nano Genx</td>\n",
       "      <td>Xm</td>\n",
       "      <td>In-line</td>\n",
       "      <td>RWD (Rear Wheel Drive)</td>\n",
       "      <td>Rear, Transverse</td>\n",
       "      <td>Drum</td>\n",
       "      <td>Drum</td>\n",
       "      <td>Independent, Lower Wishbone, McPherson Strut w...</td>\n",
       "      <td>Independent, Semi Trailing arm with coil sprin...</td>\n",
       "      <td>...</td>\n",
       "      <td>NaN</td>\n",
       "      <td>Manual</td>\n",
       "      <td>4 B X 12</td>\n",
       "      <td>Manual</td>\n",
       "      <td>Driver &amp; Front Passenger</td>\n",
       "      <td>1652</td>\n",
       "      <td>5.0</td>\n",
       "      <td>3164</td>\n",
       "      <td>Air Conditioning with cooling only</td>\n",
       "      <td>272223</td>\n",
       "    </tr>\n",
       "  </tbody>\n",
       "</table>\n",
       "<p>5 rows × 21 columns</p>\n",
       "</div>"
      ],
      "text/plain": [
       "   Make      Model  Variant Cylinder_Configuration              Drivetrain  \\\n",
       "0  Tata  Nano Genx       Xt                In-line  RWD (Rear Wheel Drive)   \n",
       "1  Tata  Nano Genx       Xe                In-line  RWD (Rear Wheel Drive)   \n",
       "2  Tata  Nano Genx  Emax Xm                In-line  RWD (Rear Wheel Drive)   \n",
       "3  Tata  Nano Genx      Xta                In-line  RWD (Rear Wheel Drive)   \n",
       "4  Tata  Nano Genx       Xm                In-line  RWD (Rear Wheel Drive)   \n",
       "\n",
       "    Engine_Location Front_Brakes Rear_Brakes  \\\n",
       "0  Rear, Transverse         Drum        Drum   \n",
       "1  Rear, Transverse         Drum        Drum   \n",
       "2  Rear, Transverse         Drum        Drum   \n",
       "3  Rear, Transverse         Drum        Drum   \n",
       "4  Rear, Transverse         Drum        Drum   \n",
       "\n",
       "                                    Front_Suspension  \\\n",
       "0  Independent, Lower Wishbone, McPherson Strut w...   \n",
       "1  Independent, Lower Wishbone, McPherson Strut w...   \n",
       "2  Independent, Lower Wishbone, McPherson Strut w...   \n",
       "3  Independent, Lower Wishbone, McPherson Strut w...   \n",
       "4  Independent, Lower Wishbone, McPherson Strut w...   \n",
       "\n",
       "                                     Rear_Suspension  ...       Power_Windows  \\\n",
       "0  Independent, Semi Trailing arm with coil sprin...  ...  Only Front Windows   \n",
       "1  Independent, Semi Trailing arm with coil sprin...  ...                 NaN   \n",
       "2  Independent, Semi Trailing arm with coil sprin...  ...                 NaN   \n",
       "3  Independent, Semi Trailing arm with coil sprin...  ...  Only Front Windows   \n",
       "4  Independent, Semi Trailing arm with coil sprin...  ...                 NaN   \n",
       "\n",
       "        Type Wheels_Size Handbrake                 Sun_Visor Height Doors  \\\n",
       "0     Manual    4 B X 12    Manual  Driver & Front Passenger  1652    5.0   \n",
       "1     Manual    4 B X 12    Manual  Driver & Front Passenger  1652    5.0   \n",
       "2     Manual    4 B X 12    Manual  Driver & Front Passenger  1652    4.0   \n",
       "3  Automatic    4 B X 12    Manual  Driver & Front Passenger  1652    5.0   \n",
       "4     Manual    4 B X 12    Manual  Driver & Front Passenger  1652    5.0   \n",
       "\n",
       "   Length                                Ventilation_System Ex-Showroom_Price  \n",
       "0   3164   Manual Air conditioning with cooling and heating            292667  \n",
       "1   3164                                                NaN            236447  \n",
       "2   3164                 Air Conditioning with cooling only            296661  \n",
       "3   3164   Manual Air conditioning with cooling and heating            334768  \n",
       "4   3164                 Air Conditioning with cooling only            272223  \n",
       "\n",
       "[5 rows x 21 columns]"
      ]
     },
     "execution_count": 10,
     "metadata": {},
     "output_type": "execute_result"
    }
   ],
   "source": [
    "df2.head()"
   ]
  },
  {
   "cell_type": "code",
   "execution_count": 11,
   "id": "d5f59d2b",
   "metadata": {},
   "outputs": [
    {
     "data": {
      "text/plain": [
       "0       1652 \n",
       "1       1652 \n",
       "2       1652 \n",
       "3       1652 \n",
       "4       1652 \n",
       "        ...  \n",
       "1271    1495 \n",
       "1272    1495 \n",
       "1273    1495 \n",
       "1274    1495 \n",
       "1275    1900 \n",
       "Name: Height, Length: 1276, dtype: object"
      ]
     },
     "execution_count": 11,
     "metadata": {},
     "output_type": "execute_result"
    }
   ],
   "source": [
    "df2['Height']"
   ]
  },
  {
   "cell_type": "code",
   "execution_count": 12,
   "id": "cad6342a",
   "metadata": {},
   "outputs": [
    {
     "name": "stderr",
     "output_type": "stream",
     "text": [
      "C:\\Users\\anwes\\AppData\\Local\\Temp\\ipykernel_6620\\2935785103.py:1: SettingWithCopyWarning: \n",
      "A value is trying to be set on a copy of a slice from a DataFrame\n",
      "\n",
      "See the caveats in the documentation: https://pandas.pydata.org/pandas-docs/stable/user_guide/indexing.html#returning-a-view-versus-a-copy\n",
      "  df2.Make.fillna('Mercedes',inplace=True)\n",
      "C:\\Users\\anwes\\AppData\\Local\\Temp\\ipykernel_6620\\2935785103.py:2: SettingWithCopyWarning: \n",
      "A value is trying to be set on a copy of a slice from a DataFrame\n",
      "\n",
      "See the caveats in the documentation: https://pandas.pydata.org/pandas-docs/stable/user_guide/indexing.html#returning-a-view-versus-a-copy\n",
      "  df2['Make'][1219]='Rolls-Royce'\n",
      "C:\\Users\\anwes\\AppData\\Local\\Temp\\ipykernel_6620\\2935785103.py:3: SettingWithCopyWarning: \n",
      "A value is trying to be set on a copy of a slice from a DataFrame\n",
      "\n",
      "See the caveats in the documentation: https://pandas.pydata.org/pandas-docs/stable/user_guide/indexing.html#returning-a-view-versus-a-copy\n",
      "  df2['Make'][1220]='Rolls-Royce'\n",
      "C:\\Users\\anwes\\AppData\\Local\\Temp\\ipykernel_6620\\2935785103.py:4: SettingWithCopyWarning: \n",
      "A value is trying to be set on a copy of a slice from a DataFrame\n",
      "\n",
      "See the caveats in the documentation: https://pandas.pydata.org/pandas-docs/stable/user_guide/indexing.html#returning-a-view-versus-a-copy\n",
      "  df2['Make'][879]='Rolls-Royce'\n",
      "C:\\Users\\anwes\\AppData\\Local\\Temp\\ipykernel_6620\\2935785103.py:5: SettingWithCopyWarning: \n",
      "A value is trying to be set on a copy of a slice from a DataFrame\n",
      "\n",
      "See the caveats in the documentation: https://pandas.pydata.org/pandas-docs/stable/user_guide/indexing.html#returning-a-view-versus-a-copy\n",
      "  df2['Make'][880]='Rolls-Royce'\n",
      "C:\\Users\\anwes\\AppData\\Local\\Temp\\ipykernel_6620\\2935785103.py:7: SettingWithCopyWarning: \n",
      "A value is trying to be set on a copy of a slice from a DataFrame\n",
      "\n",
      "See the caveats in the documentation: https://pandas.pydata.org/pandas-docs/stable/user_guide/indexing.html#returning-a-view-versus-a-copy\n",
      "  df2['Make'][i]='Datsun'\n",
      "C:\\Users\\anwes\\AppData\\Local\\Temp\\ipykernel_6620\\2935785103.py:9: SettingWithCopyWarning: \n",
      "A value is trying to be set on a copy of a slice from a DataFrame\n",
      "\n",
      "See the caveats in the documentation: https://pandas.pydata.org/pandas-docs/stable/user_guide/indexing.html#returning-a-view-versus-a-copy\n",
      "  df2['Make'][i]='Rolls-Royce'\n"
     ]
    }
   ],
   "source": [
    "df2.Make.fillna('Mercedes',inplace=True)\n",
    "df2['Make'][1219]='Rolls-Royce'\n",
    "df2['Make'][1220]='Rolls-Royce'\n",
    "df2['Make'][879]='Rolls-Royce'\n",
    "df2['Make'][880]='Rolls-Royce'\n",
    "for i in range(883,892):\n",
    "    df2['Make'][i]='Datsun'\n",
    "for i in range(349,355):\n",
    "    df2['Make'][i]='Rolls-Royce'"
   ]
  },
  {
   "cell_type": "markdown",
   "id": "93e7d395",
   "metadata": {},
   "source": []
  },
  {
   "cell_type": "code",
   "execution_count": 13,
   "id": "d7a79b1c",
   "metadata": {},
   "outputs": [
    {
     "data": {
      "text/plain": [
       "Make                       0\n",
       "Model                      0\n",
       "Variant                    0\n",
       "Cylinder_Configuration    13\n",
       "Drivetrain                 7\n",
       "Engine_Location           43\n",
       "Front_Brakes              25\n",
       "Rear_Brakes               25\n",
       "Front_Suspension          59\n",
       "Rear_Suspension           46\n",
       "Power_Steering            57\n",
       "Power_Windows             97\n",
       "Type                       1\n",
       "Wheels_Size               56\n",
       "Handbrake                 57\n",
       "Sun_Visor                 62\n",
       "Height                     1\n",
       "Doors                      4\n",
       "Length                     0\n",
       "Ventilation_System        35\n",
       "Ex-Showroom_Price          0\n",
       "dtype: int64"
      ]
     },
     "execution_count": 13,
     "metadata": {},
     "output_type": "execute_result"
    }
   ],
   "source": [
    "df2.isnull().sum()"
   ]
  },
  {
   "cell_type": "code",
   "execution_count": 14,
   "id": "5524ed99",
   "metadata": {},
   "outputs": [
    {
     "name": "stderr",
     "output_type": "stream",
     "text": [
      "C:\\Users\\anwes\\AppData\\Local\\Temp\\ipykernel_6620\\917482150.py:1: SettingWithCopyWarning: \n",
      "A value is trying to be set on a copy of a slice from a DataFrame.\n",
      "Try using .loc[row_indexer,col_indexer] = value instead\n",
      "\n",
      "See the caveats in the documentation: https://pandas.pydata.org/pandas-docs/stable/user_guide/indexing.html#returning-a-view-versus-a-copy\n",
      "  df2['Ex-Showroom_Price'] = pd.to_numeric(df2['Ex-Showroom_Price'],errors='coerce')\n",
      "C:\\Users\\anwes\\AppData\\Local\\Temp\\ipykernel_6620\\917482150.py:2: SettingWithCopyWarning: \n",
      "A value is trying to be set on a copy of a slice from a DataFrame.\n",
      "Try using .loc[row_indexer,col_indexer] = value instead\n",
      "\n",
      "See the caveats in the documentation: https://pandas.pydata.org/pandas-docs/stable/user_guide/indexing.html#returning-a-view-versus-a-copy\n",
      "  df2['Height']=pd.to_numeric(df2['Height'],errors='coerce')\n",
      "C:\\Users\\anwes\\AppData\\Local\\Temp\\ipykernel_6620\\917482150.py:3: SettingWithCopyWarning: \n",
      "A value is trying to be set on a copy of a slice from a DataFrame.\n",
      "Try using .loc[row_indexer,col_indexer] = value instead\n",
      "\n",
      "See the caveats in the documentation: https://pandas.pydata.org/pandas-docs/stable/user_guide/indexing.html#returning-a-view-versus-a-copy\n",
      "  df2['Length']=pd.to_numeric(df2['Length'],errors='coerce')\n"
     ]
    }
   ],
   "source": [
    "df2['Ex-Showroom_Price'] = pd.to_numeric(df2['Ex-Showroom_Price'],errors='coerce')\n",
    "df2['Height']=pd.to_numeric(df2['Height'],errors='coerce')\n",
    "df2['Length']=pd.to_numeric(df2['Length'],errors='coerce')"
   ]
  },
  {
   "cell_type": "code",
   "execution_count": 15,
   "id": "be03e6ce",
   "metadata": {},
   "outputs": [
    {
     "name": "stderr",
     "output_type": "stream",
     "text": [
      "C:\\Users\\anwes\\AppData\\Local\\Temp\\ipykernel_6620\\567418560.py:1: SettingWithCopyWarning: \n",
      "A value is trying to be set on a copy of a slice from a DataFrame\n",
      "\n",
      "See the caveats in the documentation: https://pandas.pydata.org/pandas-docs/stable/user_guide/indexing.html#returning-a-view-versus-a-copy\n",
      "  df2.Drivetrain.fillna('FWD (Front Wheel Drive)',inplace=True)\n"
     ]
    }
   ],
   "source": [
    "df2.Drivetrain.fillna('FWD (Front Wheel Drive)',inplace=True)\n"
   ]
  },
  {
   "cell_type": "code",
   "execution_count": 16,
   "id": "cfb03476",
   "metadata": {},
   "outputs": [
    {
     "data": {
      "text/plain": [
       "Make                       0\n",
       "Model                      0\n",
       "Variant                    0\n",
       "Cylinder_Configuration    13\n",
       "Drivetrain                 0\n",
       "Engine_Location           43\n",
       "Front_Brakes              25\n",
       "Rear_Brakes               25\n",
       "Front_Suspension          59\n",
       "Rear_Suspension           46\n",
       "Power_Steering            57\n",
       "Power_Windows             97\n",
       "Type                       1\n",
       "Wheels_Size               56\n",
       "Handbrake                 57\n",
       "Sun_Visor                 62\n",
       "Height                     1\n",
       "Doors                      4\n",
       "Length                     0\n",
       "Ventilation_System        35\n",
       "Ex-Showroom_Price          0\n",
       "dtype: int64"
      ]
     },
     "execution_count": 16,
     "metadata": {},
     "output_type": "execute_result"
    }
   ],
   "source": [
    "df2.isnull().sum()"
   ]
  },
  {
   "cell_type": "code",
   "execution_count": 17,
   "id": "e682ede6",
   "metadata": {},
   "outputs": [
    {
     "data": {
      "text/html": [
       "<div>\n",
       "<style scoped>\n",
       "    .dataframe tbody tr th:only-of-type {\n",
       "        vertical-align: middle;\n",
       "    }\n",
       "\n",
       "    .dataframe tbody tr th {\n",
       "        vertical-align: top;\n",
       "    }\n",
       "\n",
       "    .dataframe thead th {\n",
       "        text-align: right;\n",
       "    }\n",
       "</style>\n",
       "<table border=\"1\" class=\"dataframe\">\n",
       "  <thead>\n",
       "    <tr style=\"text-align: right;\">\n",
       "      <th></th>\n",
       "      <th>Make</th>\n",
       "      <th>Model</th>\n",
       "      <th>Variant</th>\n",
       "      <th>Cylinder_Configuration</th>\n",
       "      <th>Drivetrain</th>\n",
       "      <th>Engine_Location</th>\n",
       "      <th>Front_Brakes</th>\n",
       "      <th>Rear_Brakes</th>\n",
       "      <th>Front_Suspension</th>\n",
       "      <th>Rear_Suspension</th>\n",
       "      <th>...</th>\n",
       "      <th>Power_Windows</th>\n",
       "      <th>Type</th>\n",
       "      <th>Wheels_Size</th>\n",
       "      <th>Handbrake</th>\n",
       "      <th>Sun_Visor</th>\n",
       "      <th>Height</th>\n",
       "      <th>Doors</th>\n",
       "      <th>Length</th>\n",
       "      <th>Ventilation_System</th>\n",
       "      <th>Ex-Showroom_Price</th>\n",
       "    </tr>\n",
       "  </thead>\n",
       "  <tbody>\n",
       "    <tr>\n",
       "      <th>0</th>\n",
       "      <td>Tata</td>\n",
       "      <td>Nano Genx</td>\n",
       "      <td>Xt</td>\n",
       "      <td>In-line</td>\n",
       "      <td>RWD (Rear Wheel Drive)</td>\n",
       "      <td>Rear, Transverse</td>\n",
       "      <td>Drum</td>\n",
       "      <td>Drum</td>\n",
       "      <td>Independent, Lower Wishbone, McPherson Strut w...</td>\n",
       "      <td>Independent, Semi Trailing arm with coil sprin...</td>\n",
       "      <td>...</td>\n",
       "      <td>Only Front Windows</td>\n",
       "      <td>Manual</td>\n",
       "      <td>4 B X 12</td>\n",
       "      <td>Manual</td>\n",
       "      <td>Driver &amp; Front Passenger</td>\n",
       "      <td>1652.0</td>\n",
       "      <td>5.0</td>\n",
       "      <td>3164.0</td>\n",
       "      <td>Manual Air conditioning with cooling and heating</td>\n",
       "      <td>292667</td>\n",
       "    </tr>\n",
       "    <tr>\n",
       "      <th>1</th>\n",
       "      <td>Tata</td>\n",
       "      <td>Nano Genx</td>\n",
       "      <td>Xe</td>\n",
       "      <td>In-line</td>\n",
       "      <td>RWD (Rear Wheel Drive)</td>\n",
       "      <td>Rear, Transverse</td>\n",
       "      <td>Drum</td>\n",
       "      <td>Drum</td>\n",
       "      <td>Independent, Lower Wishbone, McPherson Strut w...</td>\n",
       "      <td>Independent, Semi Trailing arm with coil sprin...</td>\n",
       "      <td>...</td>\n",
       "      <td>NaN</td>\n",
       "      <td>Manual</td>\n",
       "      <td>4 B X 12</td>\n",
       "      <td>Manual</td>\n",
       "      <td>Driver &amp; Front Passenger</td>\n",
       "      <td>1652.0</td>\n",
       "      <td>5.0</td>\n",
       "      <td>3164.0</td>\n",
       "      <td>NaN</td>\n",
       "      <td>236447</td>\n",
       "    </tr>\n",
       "    <tr>\n",
       "      <th>2</th>\n",
       "      <td>Tata</td>\n",
       "      <td>Nano Genx</td>\n",
       "      <td>Emax Xm</td>\n",
       "      <td>In-line</td>\n",
       "      <td>RWD (Rear Wheel Drive)</td>\n",
       "      <td>Rear, Transverse</td>\n",
       "      <td>Drum</td>\n",
       "      <td>Drum</td>\n",
       "      <td>Independent, Lower Wishbone, McPherson Strut w...</td>\n",
       "      <td>Independent, Semi Trailing arm with coil sprin...</td>\n",
       "      <td>...</td>\n",
       "      <td>NaN</td>\n",
       "      <td>Manual</td>\n",
       "      <td>4 B X 12</td>\n",
       "      <td>Manual</td>\n",
       "      <td>Driver &amp; Front Passenger</td>\n",
       "      <td>1652.0</td>\n",
       "      <td>4.0</td>\n",
       "      <td>3164.0</td>\n",
       "      <td>Air Conditioning with cooling only</td>\n",
       "      <td>296661</td>\n",
       "    </tr>\n",
       "    <tr>\n",
       "      <th>3</th>\n",
       "      <td>Tata</td>\n",
       "      <td>Nano Genx</td>\n",
       "      <td>Xta</td>\n",
       "      <td>In-line</td>\n",
       "      <td>RWD (Rear Wheel Drive)</td>\n",
       "      <td>Rear, Transverse</td>\n",
       "      <td>Drum</td>\n",
       "      <td>Drum</td>\n",
       "      <td>Independent, Lower Wishbone, McPherson Strut w...</td>\n",
       "      <td>Independent, Semi Trailing arm with coil sprin...</td>\n",
       "      <td>...</td>\n",
       "      <td>Only Front Windows</td>\n",
       "      <td>Automatic</td>\n",
       "      <td>4 B X 12</td>\n",
       "      <td>Manual</td>\n",
       "      <td>Driver &amp; Front Passenger</td>\n",
       "      <td>1652.0</td>\n",
       "      <td>5.0</td>\n",
       "      <td>3164.0</td>\n",
       "      <td>Manual Air conditioning with cooling and heating</td>\n",
       "      <td>334768</td>\n",
       "    </tr>\n",
       "    <tr>\n",
       "      <th>4</th>\n",
       "      <td>Tata</td>\n",
       "      <td>Nano Genx</td>\n",
       "      <td>Xm</td>\n",
       "      <td>In-line</td>\n",
       "      <td>RWD (Rear Wheel Drive)</td>\n",
       "      <td>Rear, Transverse</td>\n",
       "      <td>Drum</td>\n",
       "      <td>Drum</td>\n",
       "      <td>Independent, Lower Wishbone, McPherson Strut w...</td>\n",
       "      <td>Independent, Semi Trailing arm with coil sprin...</td>\n",
       "      <td>...</td>\n",
       "      <td>NaN</td>\n",
       "      <td>Manual</td>\n",
       "      <td>4 B X 12</td>\n",
       "      <td>Manual</td>\n",
       "      <td>Driver &amp; Front Passenger</td>\n",
       "      <td>1652.0</td>\n",
       "      <td>5.0</td>\n",
       "      <td>3164.0</td>\n",
       "      <td>Air Conditioning with cooling only</td>\n",
       "      <td>272223</td>\n",
       "    </tr>\n",
       "  </tbody>\n",
       "</table>\n",
       "<p>5 rows × 21 columns</p>\n",
       "</div>"
      ],
      "text/plain": [
       "   Make      Model  Variant Cylinder_Configuration              Drivetrain  \\\n",
       "0  Tata  Nano Genx       Xt                In-line  RWD (Rear Wheel Drive)   \n",
       "1  Tata  Nano Genx       Xe                In-line  RWD (Rear Wheel Drive)   \n",
       "2  Tata  Nano Genx  Emax Xm                In-line  RWD (Rear Wheel Drive)   \n",
       "3  Tata  Nano Genx      Xta                In-line  RWD (Rear Wheel Drive)   \n",
       "4  Tata  Nano Genx       Xm                In-line  RWD (Rear Wheel Drive)   \n",
       "\n",
       "    Engine_Location Front_Brakes Rear_Brakes  \\\n",
       "0  Rear, Transverse         Drum        Drum   \n",
       "1  Rear, Transverse         Drum        Drum   \n",
       "2  Rear, Transverse         Drum        Drum   \n",
       "3  Rear, Transverse         Drum        Drum   \n",
       "4  Rear, Transverse         Drum        Drum   \n",
       "\n",
       "                                    Front_Suspension  \\\n",
       "0  Independent, Lower Wishbone, McPherson Strut w...   \n",
       "1  Independent, Lower Wishbone, McPherson Strut w...   \n",
       "2  Independent, Lower Wishbone, McPherson Strut w...   \n",
       "3  Independent, Lower Wishbone, McPherson Strut w...   \n",
       "4  Independent, Lower Wishbone, McPherson Strut w...   \n",
       "\n",
       "                                     Rear_Suspension  ...       Power_Windows  \\\n",
       "0  Independent, Semi Trailing arm with coil sprin...  ...  Only Front Windows   \n",
       "1  Independent, Semi Trailing arm with coil sprin...  ...                 NaN   \n",
       "2  Independent, Semi Trailing arm with coil sprin...  ...                 NaN   \n",
       "3  Independent, Semi Trailing arm with coil sprin...  ...  Only Front Windows   \n",
       "4  Independent, Semi Trailing arm with coil sprin...  ...                 NaN   \n",
       "\n",
       "        Type Wheels_Size Handbrake                 Sun_Visor  Height  Doors  \\\n",
       "0     Manual    4 B X 12    Manual  Driver & Front Passenger  1652.0    5.0   \n",
       "1     Manual    4 B X 12    Manual  Driver & Front Passenger  1652.0    5.0   \n",
       "2     Manual    4 B X 12    Manual  Driver & Front Passenger  1652.0    4.0   \n",
       "3  Automatic    4 B X 12    Manual  Driver & Front Passenger  1652.0    5.0   \n",
       "4     Manual    4 B X 12    Manual  Driver & Front Passenger  1652.0    5.0   \n",
       "\n",
       "   Length                                Ventilation_System Ex-Showroom_Price  \n",
       "0  3164.0  Manual Air conditioning with cooling and heating            292667  \n",
       "1  3164.0                                               NaN            236447  \n",
       "2  3164.0                Air Conditioning with cooling only            296661  \n",
       "3  3164.0  Manual Air conditioning with cooling and heating            334768  \n",
       "4  3164.0                Air Conditioning with cooling only            272223  \n",
       "\n",
       "[5 rows x 21 columns]"
      ]
     },
     "execution_count": 17,
     "metadata": {},
     "output_type": "execute_result"
    }
   ],
   "source": [
    "df2.head()"
   ]
  },
  {
   "cell_type": "code",
   "execution_count": 18,
   "id": "62223008",
   "metadata": {},
   "outputs": [],
   "source": [
    "col1=['Cylinder_Configuration','Engine_Location','Front_Brakes','Rear_Brakes','Front_Suspension','Rear_Suspension','Power_Steering'\n",
    "    ,'Power_Windows','Type','Wheels_Size','Wheels_Size','Height','Doors','Length','Handbrake','Sun_Visor','Ventilation_System']"
   ]
  },
  {
   "cell_type": "code",
   "execution_count": 19,
   "id": "b1f89c78",
   "metadata": {},
   "outputs": [
    {
     "name": "stderr",
     "output_type": "stream",
     "text": [
      "C:\\Users\\anwes\\AppData\\Local\\Temp\\ipykernel_6620\\4072479691.py:2: SettingWithCopyWarning: \n",
      "A value is trying to be set on a copy of a slice from a DataFrame\n",
      "\n",
      "See the caveats in the documentation: https://pandas.pydata.org/pandas-docs/stable/user_guide/indexing.html#returning-a-view-versus-a-copy\n",
      "  df2[i].fillna(df2[i].value_counts()\n",
      "C:\\Users\\anwes\\AppData\\Local\\Temp\\ipykernel_6620\\4072479691.py:2: SettingWithCopyWarning: \n",
      "A value is trying to be set on a copy of a slice from a DataFrame\n",
      "\n",
      "See the caveats in the documentation: https://pandas.pydata.org/pandas-docs/stable/user_guide/indexing.html#returning-a-view-versus-a-copy\n",
      "  df2[i].fillna(df2[i].value_counts()\n",
      "C:\\Users\\anwes\\AppData\\Local\\Temp\\ipykernel_6620\\4072479691.py:2: SettingWithCopyWarning: \n",
      "A value is trying to be set on a copy of a slice from a DataFrame\n",
      "\n",
      "See the caveats in the documentation: https://pandas.pydata.org/pandas-docs/stable/user_guide/indexing.html#returning-a-view-versus-a-copy\n",
      "  df2[i].fillna(df2[i].value_counts()\n",
      "C:\\Users\\anwes\\AppData\\Local\\Temp\\ipykernel_6620\\4072479691.py:2: SettingWithCopyWarning: \n",
      "A value is trying to be set on a copy of a slice from a DataFrame\n",
      "\n",
      "See the caveats in the documentation: https://pandas.pydata.org/pandas-docs/stable/user_guide/indexing.html#returning-a-view-versus-a-copy\n",
      "  df2[i].fillna(df2[i].value_counts()\n",
      "C:\\Users\\anwes\\AppData\\Local\\Temp\\ipykernel_6620\\4072479691.py:2: SettingWithCopyWarning: \n",
      "A value is trying to be set on a copy of a slice from a DataFrame\n",
      "\n",
      "See the caveats in the documentation: https://pandas.pydata.org/pandas-docs/stable/user_guide/indexing.html#returning-a-view-versus-a-copy\n",
      "  df2[i].fillna(df2[i].value_counts()\n",
      "C:\\Users\\anwes\\AppData\\Local\\Temp\\ipykernel_6620\\4072479691.py:2: SettingWithCopyWarning: \n",
      "A value is trying to be set on a copy of a slice from a DataFrame\n",
      "\n",
      "See the caveats in the documentation: https://pandas.pydata.org/pandas-docs/stable/user_guide/indexing.html#returning-a-view-versus-a-copy\n",
      "  df2[i].fillna(df2[i].value_counts()\n",
      "C:\\Users\\anwes\\AppData\\Local\\Temp\\ipykernel_6620\\4072479691.py:2: SettingWithCopyWarning: \n",
      "A value is trying to be set on a copy of a slice from a DataFrame\n",
      "\n",
      "See the caveats in the documentation: https://pandas.pydata.org/pandas-docs/stable/user_guide/indexing.html#returning-a-view-versus-a-copy\n",
      "  df2[i].fillna(df2[i].value_counts()\n",
      "C:\\Users\\anwes\\AppData\\Local\\Temp\\ipykernel_6620\\4072479691.py:2: SettingWithCopyWarning: \n",
      "A value is trying to be set on a copy of a slice from a DataFrame\n",
      "\n",
      "See the caveats in the documentation: https://pandas.pydata.org/pandas-docs/stable/user_guide/indexing.html#returning-a-view-versus-a-copy\n",
      "  df2[i].fillna(df2[i].value_counts()\n",
      "C:\\Users\\anwes\\AppData\\Local\\Temp\\ipykernel_6620\\4072479691.py:2: SettingWithCopyWarning: \n",
      "A value is trying to be set on a copy of a slice from a DataFrame\n",
      "\n",
      "See the caveats in the documentation: https://pandas.pydata.org/pandas-docs/stable/user_guide/indexing.html#returning-a-view-versus-a-copy\n",
      "  df2[i].fillna(df2[i].value_counts()\n",
      "C:\\Users\\anwes\\AppData\\Local\\Temp\\ipykernel_6620\\4072479691.py:2: SettingWithCopyWarning: \n",
      "A value is trying to be set on a copy of a slice from a DataFrame\n",
      "\n",
      "See the caveats in the documentation: https://pandas.pydata.org/pandas-docs/stable/user_guide/indexing.html#returning-a-view-versus-a-copy\n",
      "  df2[i].fillna(df2[i].value_counts()\n",
      "C:\\Users\\anwes\\AppData\\Local\\Temp\\ipykernel_6620\\4072479691.py:2: SettingWithCopyWarning: \n",
      "A value is trying to be set on a copy of a slice from a DataFrame\n",
      "\n",
      "See the caveats in the documentation: https://pandas.pydata.org/pandas-docs/stable/user_guide/indexing.html#returning-a-view-versus-a-copy\n",
      "  df2[i].fillna(df2[i].value_counts()\n",
      "C:\\Users\\anwes\\AppData\\Local\\Temp\\ipykernel_6620\\4072479691.py:2: SettingWithCopyWarning: \n",
      "A value is trying to be set on a copy of a slice from a DataFrame\n",
      "\n",
      "See the caveats in the documentation: https://pandas.pydata.org/pandas-docs/stable/user_guide/indexing.html#returning-a-view-versus-a-copy\n",
      "  df2[i].fillna(df2[i].value_counts()\n",
      "C:\\Users\\anwes\\AppData\\Local\\Temp\\ipykernel_6620\\4072479691.py:2: SettingWithCopyWarning: \n",
      "A value is trying to be set on a copy of a slice from a DataFrame\n",
      "\n",
      "See the caveats in the documentation: https://pandas.pydata.org/pandas-docs/stable/user_guide/indexing.html#returning-a-view-versus-a-copy\n",
      "  df2[i].fillna(df2[i].value_counts()\n",
      "C:\\Users\\anwes\\AppData\\Local\\Temp\\ipykernel_6620\\4072479691.py:2: SettingWithCopyWarning: \n",
      "A value is trying to be set on a copy of a slice from a DataFrame\n",
      "\n",
      "See the caveats in the documentation: https://pandas.pydata.org/pandas-docs/stable/user_guide/indexing.html#returning-a-view-versus-a-copy\n",
      "  df2[i].fillna(df2[i].value_counts()\n",
      "C:\\Users\\anwes\\AppData\\Local\\Temp\\ipykernel_6620\\4072479691.py:2: SettingWithCopyWarning: \n",
      "A value is trying to be set on a copy of a slice from a DataFrame\n",
      "\n",
      "See the caveats in the documentation: https://pandas.pydata.org/pandas-docs/stable/user_guide/indexing.html#returning-a-view-versus-a-copy\n",
      "  df2[i].fillna(df2[i].value_counts()\n",
      "C:\\Users\\anwes\\AppData\\Local\\Temp\\ipykernel_6620\\4072479691.py:2: SettingWithCopyWarning: \n",
      "A value is trying to be set on a copy of a slice from a DataFrame\n",
      "\n",
      "See the caveats in the documentation: https://pandas.pydata.org/pandas-docs/stable/user_guide/indexing.html#returning-a-view-versus-a-copy\n",
      "  df2[i].fillna(df2[i].value_counts()\n",
      "C:\\Users\\anwes\\AppData\\Local\\Temp\\ipykernel_6620\\4072479691.py:2: SettingWithCopyWarning: \n",
      "A value is trying to be set on a copy of a slice from a DataFrame\n",
      "\n",
      "See the caveats in the documentation: https://pandas.pydata.org/pandas-docs/stable/user_guide/indexing.html#returning-a-view-versus-a-copy\n",
      "  df2[i].fillna(df2[i].value_counts()\n"
     ]
    }
   ],
   "source": [
    "for i in col1:\n",
    "    df2[i].fillna(df2[i].value_counts()\n",
    ".idxmax(), inplace=True)"
   ]
  },
  {
   "cell_type": "code",
   "execution_count": 20,
   "id": "947fc414",
   "metadata": {},
   "outputs": [
    {
     "data": {
      "text/plain": [
       "Make                      0\n",
       "Model                     0\n",
       "Variant                   0\n",
       "Cylinder_Configuration    0\n",
       "Drivetrain                0\n",
       "Engine_Location           0\n",
       "Front_Brakes              0\n",
       "Rear_Brakes               0\n",
       "Front_Suspension          0\n",
       "Rear_Suspension           0\n",
       "Power_Steering            0\n",
       "Power_Windows             0\n",
       "Type                      0\n",
       "Wheels_Size               0\n",
       "Handbrake                 0\n",
       "Sun_Visor                 0\n",
       "Height                    0\n",
       "Doors                     0\n",
       "Length                    0\n",
       "Ventilation_System        0\n",
       "Ex-Showroom_Price         0\n",
       "dtype: int64"
      ]
     },
     "execution_count": 20,
     "metadata": {},
     "output_type": "execute_result"
    }
   ],
   "source": [
    "df2.isnull().sum()"
   ]
  },
  {
   "cell_type": "code",
   "execution_count": 21,
   "id": "4dfad87c",
   "metadata": {},
   "outputs": [
    {
     "data": {
      "text/html": [
       "<div>\n",
       "<style scoped>\n",
       "    .dataframe tbody tr th:only-of-type {\n",
       "        vertical-align: middle;\n",
       "    }\n",
       "\n",
       "    .dataframe tbody tr th {\n",
       "        vertical-align: top;\n",
       "    }\n",
       "\n",
       "    .dataframe thead th {\n",
       "        text-align: right;\n",
       "    }\n",
       "</style>\n",
       "<table border=\"1\" class=\"dataframe\">\n",
       "  <thead>\n",
       "    <tr style=\"text-align: right;\">\n",
       "      <th></th>\n",
       "      <th>Make</th>\n",
       "      <th>Model</th>\n",
       "      <th>Variant</th>\n",
       "      <th>Cylinder_Configuration</th>\n",
       "      <th>Drivetrain</th>\n",
       "      <th>Engine_Location</th>\n",
       "      <th>Front_Brakes</th>\n",
       "      <th>Rear_Brakes</th>\n",
       "      <th>Front_Suspension</th>\n",
       "      <th>Rear_Suspension</th>\n",
       "      <th>...</th>\n",
       "      <th>Power_Windows</th>\n",
       "      <th>Type</th>\n",
       "      <th>Wheels_Size</th>\n",
       "      <th>Handbrake</th>\n",
       "      <th>Sun_Visor</th>\n",
       "      <th>Height</th>\n",
       "      <th>Doors</th>\n",
       "      <th>Length</th>\n",
       "      <th>Ventilation_System</th>\n",
       "      <th>Ex-Showroom_Price</th>\n",
       "    </tr>\n",
       "  </thead>\n",
       "  <tbody>\n",
       "    <tr>\n",
       "      <th>0</th>\n",
       "      <td>Tata</td>\n",
       "      <td>Nano Genx</td>\n",
       "      <td>Xt</td>\n",
       "      <td>In-line</td>\n",
       "      <td>RWD (Rear Wheel Drive)</td>\n",
       "      <td>Rear, Transverse</td>\n",
       "      <td>Drum</td>\n",
       "      <td>Drum</td>\n",
       "      <td>Independent, Lower Wishbone, McPherson Strut w...</td>\n",
       "      <td>Independent, Semi Trailing arm with coil sprin...</td>\n",
       "      <td>...</td>\n",
       "      <td>Only Front Windows</td>\n",
       "      <td>Manual</td>\n",
       "      <td>4 B X 12</td>\n",
       "      <td>Manual</td>\n",
       "      <td>Driver &amp; Front Passenger</td>\n",
       "      <td>1652.0</td>\n",
       "      <td>5.0</td>\n",
       "      <td>3164.0</td>\n",
       "      <td>Manual Air conditioning with cooling and heating</td>\n",
       "      <td>292667</td>\n",
       "    </tr>\n",
       "    <tr>\n",
       "      <th>1</th>\n",
       "      <td>Tata</td>\n",
       "      <td>Nano Genx</td>\n",
       "      <td>Xe</td>\n",
       "      <td>In-line</td>\n",
       "      <td>RWD (Rear Wheel Drive)</td>\n",
       "      <td>Rear, Transverse</td>\n",
       "      <td>Drum</td>\n",
       "      <td>Drum</td>\n",
       "      <td>Independent, Lower Wishbone, McPherson Strut w...</td>\n",
       "      <td>Independent, Semi Trailing arm with coil sprin...</td>\n",
       "      <td>...</td>\n",
       "      <td>All Windows</td>\n",
       "      <td>Manual</td>\n",
       "      <td>4 B X 12</td>\n",
       "      <td>Manual</td>\n",
       "      <td>Driver &amp; Front Passenger</td>\n",
       "      <td>1652.0</td>\n",
       "      <td>5.0</td>\n",
       "      <td>3164.0</td>\n",
       "      <td>Fully automatic climate control</td>\n",
       "      <td>236447</td>\n",
       "    </tr>\n",
       "    <tr>\n",
       "      <th>2</th>\n",
       "      <td>Tata</td>\n",
       "      <td>Nano Genx</td>\n",
       "      <td>Emax Xm</td>\n",
       "      <td>In-line</td>\n",
       "      <td>RWD (Rear Wheel Drive)</td>\n",
       "      <td>Rear, Transverse</td>\n",
       "      <td>Drum</td>\n",
       "      <td>Drum</td>\n",
       "      <td>Independent, Lower Wishbone, McPherson Strut w...</td>\n",
       "      <td>Independent, Semi Trailing arm with coil sprin...</td>\n",
       "      <td>...</td>\n",
       "      <td>All Windows</td>\n",
       "      <td>Manual</td>\n",
       "      <td>4 B X 12</td>\n",
       "      <td>Manual</td>\n",
       "      <td>Driver &amp; Front Passenger</td>\n",
       "      <td>1652.0</td>\n",
       "      <td>4.0</td>\n",
       "      <td>3164.0</td>\n",
       "      <td>Air Conditioning with cooling only</td>\n",
       "      <td>296661</td>\n",
       "    </tr>\n",
       "    <tr>\n",
       "      <th>3</th>\n",
       "      <td>Tata</td>\n",
       "      <td>Nano Genx</td>\n",
       "      <td>Xta</td>\n",
       "      <td>In-line</td>\n",
       "      <td>RWD (Rear Wheel Drive)</td>\n",
       "      <td>Rear, Transverse</td>\n",
       "      <td>Drum</td>\n",
       "      <td>Drum</td>\n",
       "      <td>Independent, Lower Wishbone, McPherson Strut w...</td>\n",
       "      <td>Independent, Semi Trailing arm with coil sprin...</td>\n",
       "      <td>...</td>\n",
       "      <td>Only Front Windows</td>\n",
       "      <td>Automatic</td>\n",
       "      <td>4 B X 12</td>\n",
       "      <td>Manual</td>\n",
       "      <td>Driver &amp; Front Passenger</td>\n",
       "      <td>1652.0</td>\n",
       "      <td>5.0</td>\n",
       "      <td>3164.0</td>\n",
       "      <td>Manual Air conditioning with cooling and heating</td>\n",
       "      <td>334768</td>\n",
       "    </tr>\n",
       "    <tr>\n",
       "      <th>4</th>\n",
       "      <td>Tata</td>\n",
       "      <td>Nano Genx</td>\n",
       "      <td>Xm</td>\n",
       "      <td>In-line</td>\n",
       "      <td>RWD (Rear Wheel Drive)</td>\n",
       "      <td>Rear, Transverse</td>\n",
       "      <td>Drum</td>\n",
       "      <td>Drum</td>\n",
       "      <td>Independent, Lower Wishbone, McPherson Strut w...</td>\n",
       "      <td>Independent, Semi Trailing arm with coil sprin...</td>\n",
       "      <td>...</td>\n",
       "      <td>All Windows</td>\n",
       "      <td>Manual</td>\n",
       "      <td>4 B X 12</td>\n",
       "      <td>Manual</td>\n",
       "      <td>Driver &amp; Front Passenger</td>\n",
       "      <td>1652.0</td>\n",
       "      <td>5.0</td>\n",
       "      <td>3164.0</td>\n",
       "      <td>Air Conditioning with cooling only</td>\n",
       "      <td>272223</td>\n",
       "    </tr>\n",
       "  </tbody>\n",
       "</table>\n",
       "<p>5 rows × 21 columns</p>\n",
       "</div>"
      ],
      "text/plain": [
       "   Make      Model  Variant Cylinder_Configuration              Drivetrain  \\\n",
       "0  Tata  Nano Genx       Xt                In-line  RWD (Rear Wheel Drive)   \n",
       "1  Tata  Nano Genx       Xe                In-line  RWD (Rear Wheel Drive)   \n",
       "2  Tata  Nano Genx  Emax Xm                In-line  RWD (Rear Wheel Drive)   \n",
       "3  Tata  Nano Genx      Xta                In-line  RWD (Rear Wheel Drive)   \n",
       "4  Tata  Nano Genx       Xm                In-line  RWD (Rear Wheel Drive)   \n",
       "\n",
       "    Engine_Location Front_Brakes Rear_Brakes  \\\n",
       "0  Rear, Transverse         Drum        Drum   \n",
       "1  Rear, Transverse         Drum        Drum   \n",
       "2  Rear, Transverse         Drum        Drum   \n",
       "3  Rear, Transverse         Drum        Drum   \n",
       "4  Rear, Transverse         Drum        Drum   \n",
       "\n",
       "                                    Front_Suspension  \\\n",
       "0  Independent, Lower Wishbone, McPherson Strut w...   \n",
       "1  Independent, Lower Wishbone, McPherson Strut w...   \n",
       "2  Independent, Lower Wishbone, McPherson Strut w...   \n",
       "3  Independent, Lower Wishbone, McPherson Strut w...   \n",
       "4  Independent, Lower Wishbone, McPherson Strut w...   \n",
       "\n",
       "                                     Rear_Suspension  ...       Power_Windows  \\\n",
       "0  Independent, Semi Trailing arm with coil sprin...  ...  Only Front Windows   \n",
       "1  Independent, Semi Trailing arm with coil sprin...  ...         All Windows   \n",
       "2  Independent, Semi Trailing arm with coil sprin...  ...         All Windows   \n",
       "3  Independent, Semi Trailing arm with coil sprin...  ...  Only Front Windows   \n",
       "4  Independent, Semi Trailing arm with coil sprin...  ...         All Windows   \n",
       "\n",
       "        Type Wheels_Size Handbrake                 Sun_Visor  Height  Doors  \\\n",
       "0     Manual    4 B X 12    Manual  Driver & Front Passenger  1652.0    5.0   \n",
       "1     Manual    4 B X 12    Manual  Driver & Front Passenger  1652.0    5.0   \n",
       "2     Manual    4 B X 12    Manual  Driver & Front Passenger  1652.0    4.0   \n",
       "3  Automatic    4 B X 12    Manual  Driver & Front Passenger  1652.0    5.0   \n",
       "4     Manual    4 B X 12    Manual  Driver & Front Passenger  1652.0    5.0   \n",
       "\n",
       "   Length                                Ventilation_System Ex-Showroom_Price  \n",
       "0  3164.0  Manual Air conditioning with cooling and heating            292667  \n",
       "1  3164.0                   Fully automatic climate control            236447  \n",
       "2  3164.0                Air Conditioning with cooling only            296661  \n",
       "3  3164.0  Manual Air conditioning with cooling and heating            334768  \n",
       "4  3164.0                Air Conditioning with cooling only            272223  \n",
       "\n",
       "[5 rows x 21 columns]"
      ]
     },
     "execution_count": 21,
     "metadata": {},
     "output_type": "execute_result"
    }
   ],
   "source": [
    "df2.head()"
   ]
  },
  {
   "cell_type": "code",
   "execution_count": 22,
   "id": "b794c65c",
   "metadata": {},
   "outputs": [],
   "source": [
    "from sklearn.preprocessing import OneHotEncoder,LabelEncoder"
   ]
  },
  {
   "cell_type": "code",
   "execution_count": 23,
   "id": "5b30a71b",
   "metadata": {},
   "outputs": [],
   "source": [
    "col2=['Make', 'Model', 'Variant', 'Cylinder_Configuration', 'Drivetrain',\n",
    "       'Engine_Location', 'Front_Brakes', 'Rear_Brakes', 'Front_Suspension',\n",
    "       'Rear_Suspension', 'Power_Steering', 'Power_Windows', 'Type',\n",
    "       'Wheels_Size', 'Handbrake', 'Sun_Visor', 'Ventilation_System',\n",
    "       ]"
   ]
  },
  {
   "cell_type": "code",
   "execution_count": 24,
   "id": "23b4eca9",
   "metadata": {},
   "outputs": [],
   "source": [
    "le=LabelEncoder()"
   ]
  },
  {
   "cell_type": "code",
   "execution_count": 25,
   "id": "bc3a240a",
   "metadata": {},
   "outputs": [
    {
     "name": "stderr",
     "output_type": "stream",
     "text": [
      "C:\\Users\\anwes\\AppData\\Local\\Temp\\ipykernel_6620\\3766365525.py:1: SettingWithCopyWarning: \n",
      "A value is trying to be set on a copy of a slice from a DataFrame.\n",
      "Try using .loc[row_indexer,col_indexer] = value instead\n",
      "\n",
      "See the caveats in the documentation: https://pandas.pydata.org/pandas-docs/stable/user_guide/indexing.html#returning-a-view-versus-a-copy\n",
      "  df2['Make_LE']=le.fit_transform(df2['Make'])\n",
      "C:\\Users\\anwes\\AppData\\Local\\Temp\\ipykernel_6620\\3766365525.py:2: SettingWithCopyWarning: \n",
      "A value is trying to be set on a copy of a slice from a DataFrame.\n",
      "Try using .loc[row_indexer,col_indexer] = value instead\n",
      "\n",
      "See the caveats in the documentation: https://pandas.pydata.org/pandas-docs/stable/user_guide/indexing.html#returning-a-view-versus-a-copy\n",
      "  df2['Model_LE']=le.fit_transform(df2['Model'])\n",
      "C:\\Users\\anwes\\AppData\\Local\\Temp\\ipykernel_6620\\3766365525.py:3: SettingWithCopyWarning: \n",
      "A value is trying to be set on a copy of a slice from a DataFrame.\n",
      "Try using .loc[row_indexer,col_indexer] = value instead\n",
      "\n",
      "See the caveats in the documentation: https://pandas.pydata.org/pandas-docs/stable/user_guide/indexing.html#returning-a-view-versus-a-copy\n",
      "  df2['Variant_LE']=le.fit_transform(df2['Variant'])\n",
      "C:\\Users\\anwes\\AppData\\Local\\Temp\\ipykernel_6620\\3766365525.py:4: SettingWithCopyWarning: \n",
      "A value is trying to be set on a copy of a slice from a DataFrame.\n",
      "Try using .loc[row_indexer,col_indexer] = value instead\n",
      "\n",
      "See the caveats in the documentation: https://pandas.pydata.org/pandas-docs/stable/user_guide/indexing.html#returning-a-view-versus-a-copy\n",
      "  df2['Cylinder_Configuration_LE']=le.fit_transform(df2['Cylinder_Configuration'])\n",
      "C:\\Users\\anwes\\AppData\\Local\\Temp\\ipykernel_6620\\3766365525.py:5: SettingWithCopyWarning: \n",
      "A value is trying to be set on a copy of a slice from a DataFrame.\n",
      "Try using .loc[row_indexer,col_indexer] = value instead\n",
      "\n",
      "See the caveats in the documentation: https://pandas.pydata.org/pandas-docs/stable/user_guide/indexing.html#returning-a-view-versus-a-copy\n",
      "  df2['Drivetrain_LE']=le.fit_transform(df2['Drivetrain'])\n",
      "C:\\Users\\anwes\\AppData\\Local\\Temp\\ipykernel_6620\\3766365525.py:6: SettingWithCopyWarning: \n",
      "A value is trying to be set on a copy of a slice from a DataFrame.\n",
      "Try using .loc[row_indexer,col_indexer] = value instead\n",
      "\n",
      "See the caveats in the documentation: https://pandas.pydata.org/pandas-docs/stable/user_guide/indexing.html#returning-a-view-versus-a-copy\n",
      "  df2['Engine_Location_LE']=le.fit_transform(df2['Engine_Location'])\n",
      "C:\\Users\\anwes\\AppData\\Local\\Temp\\ipykernel_6620\\3766365525.py:7: SettingWithCopyWarning: \n",
      "A value is trying to be set on a copy of a slice from a DataFrame.\n",
      "Try using .loc[row_indexer,col_indexer] = value instead\n",
      "\n",
      "See the caveats in the documentation: https://pandas.pydata.org/pandas-docs/stable/user_guide/indexing.html#returning-a-view-versus-a-copy\n",
      "  df2['Type_LE']=le.fit_transform(df2['Type'])\n",
      "C:\\Users\\anwes\\AppData\\Local\\Temp\\ipykernel_6620\\3766365525.py:8: SettingWithCopyWarning: \n",
      "A value is trying to be set on a copy of a slice from a DataFrame.\n",
      "Try using .loc[row_indexer,col_indexer] = value instead\n",
      "\n",
      "See the caveats in the documentation: https://pandas.pydata.org/pandas-docs/stable/user_guide/indexing.html#returning-a-view-versus-a-copy\n",
      "  df2['Front_Brakes_LE']=le.fit_transform(df2['Front_Brakes'])\n",
      "C:\\Users\\anwes\\AppData\\Local\\Temp\\ipykernel_6620\\3766365525.py:9: SettingWithCopyWarning: \n",
      "A value is trying to be set on a copy of a slice from a DataFrame.\n",
      "Try using .loc[row_indexer,col_indexer] = value instead\n",
      "\n",
      "See the caveats in the documentation: https://pandas.pydata.org/pandas-docs/stable/user_guide/indexing.html#returning-a-view-versus-a-copy\n",
      "  df2['Rear_Brakes_LE']=le.fit_transform(df2['Rear_Brakes'])\n",
      "C:\\Users\\anwes\\AppData\\Local\\Temp\\ipykernel_6620\\3766365525.py:10: SettingWithCopyWarning: \n",
      "A value is trying to be set on a copy of a slice from a DataFrame.\n",
      "Try using .loc[row_indexer,col_indexer] = value instead\n",
      "\n",
      "See the caveats in the documentation: https://pandas.pydata.org/pandas-docs/stable/user_guide/indexing.html#returning-a-view-versus-a-copy\n",
      "  df2['Front_Suspension_LE']=le.fit_transform(df2['Front_Suspension'])\n",
      "C:\\Users\\anwes\\AppData\\Local\\Temp\\ipykernel_6620\\3766365525.py:11: SettingWithCopyWarning: \n",
      "A value is trying to be set on a copy of a slice from a DataFrame.\n",
      "Try using .loc[row_indexer,col_indexer] = value instead\n",
      "\n",
      "See the caveats in the documentation: https://pandas.pydata.org/pandas-docs/stable/user_guide/indexing.html#returning-a-view-versus-a-copy\n",
      "  df2['Rear_Suspension_LE']=le.fit_transform(df2['Rear_Suspension'])\n",
      "C:\\Users\\anwes\\AppData\\Local\\Temp\\ipykernel_6620\\3766365525.py:12: SettingWithCopyWarning: \n",
      "A value is trying to be set on a copy of a slice from a DataFrame.\n",
      "Try using .loc[row_indexer,col_indexer] = value instead\n",
      "\n",
      "See the caveats in the documentation: https://pandas.pydata.org/pandas-docs/stable/user_guide/indexing.html#returning-a-view-versus-a-copy\n",
      "  df2['Power_Steering_LE']=le.fit_transform(df2['Power_Steering'])\n",
      "C:\\Users\\anwes\\AppData\\Local\\Temp\\ipykernel_6620\\3766365525.py:13: SettingWithCopyWarning: \n",
      "A value is trying to be set on a copy of a slice from a DataFrame.\n",
      "Try using .loc[row_indexer,col_indexer] = value instead\n",
      "\n",
      "See the caveats in the documentation: https://pandas.pydata.org/pandas-docs/stable/user_guide/indexing.html#returning-a-view-versus-a-copy\n",
      "  df2['Power_Windows_LE']=le.fit_transform(df2['Power_Windows'])\n",
      "C:\\Users\\anwes\\AppData\\Local\\Temp\\ipykernel_6620\\3766365525.py:14: SettingWithCopyWarning: \n",
      "A value is trying to be set on a copy of a slice from a DataFrame.\n",
      "Try using .loc[row_indexer,col_indexer] = value instead\n",
      "\n",
      "See the caveats in the documentation: https://pandas.pydata.org/pandas-docs/stable/user_guide/indexing.html#returning-a-view-versus-a-copy\n",
      "  df2['Wheels_Size_LE']=le.fit_transform(df2['Wheels_Size'])\n",
      "C:\\Users\\anwes\\AppData\\Local\\Temp\\ipykernel_6620\\3766365525.py:15: SettingWithCopyWarning: \n",
      "A value is trying to be set on a copy of a slice from a DataFrame.\n",
      "Try using .loc[row_indexer,col_indexer] = value instead\n",
      "\n",
      "See the caveats in the documentation: https://pandas.pydata.org/pandas-docs/stable/user_guide/indexing.html#returning-a-view-versus-a-copy\n",
      "  df2['Handbrake_LE']=le.fit_transform(df2['Handbrake'])\n",
      "C:\\Users\\anwes\\AppData\\Local\\Temp\\ipykernel_6620\\3766365525.py:16: SettingWithCopyWarning: \n",
      "A value is trying to be set on a copy of a slice from a DataFrame.\n",
      "Try using .loc[row_indexer,col_indexer] = value instead\n",
      "\n",
      "See the caveats in the documentation: https://pandas.pydata.org/pandas-docs/stable/user_guide/indexing.html#returning-a-view-versus-a-copy\n",
      "  df2['Sun_Visor_LE']=le.fit_transform(df2['Sun_Visor'])\n",
      "C:\\Users\\anwes\\AppData\\Local\\Temp\\ipykernel_6620\\3766365525.py:17: SettingWithCopyWarning: \n",
      "A value is trying to be set on a copy of a slice from a DataFrame.\n",
      "Try using .loc[row_indexer,col_indexer] = value instead\n",
      "\n",
      "See the caveats in the documentation: https://pandas.pydata.org/pandas-docs/stable/user_guide/indexing.html#returning-a-view-versus-a-copy\n",
      "  df2['Ventilation_System_LE']=le.fit_transform(df2['Ventilation_System'])\n"
     ]
    }
   ],
   "source": [
    "df2['Make_LE']=le.fit_transform(df2['Make'])\n",
    "df2['Model_LE']=le.fit_transform(df2['Model'])\n",
    "df2['Variant_LE']=le.fit_transform(df2['Variant'])\n",
    "df2['Cylinder_Configuration_LE']=le.fit_transform(df2['Cylinder_Configuration'])\n",
    "df2['Drivetrain_LE']=le.fit_transform(df2['Drivetrain'])\n",
    "df2['Engine_Location_LE']=le.fit_transform(df2['Engine_Location'])\n",
    "df2['Type_LE']=le.fit_transform(df2['Type'])\n",
    "df2['Front_Brakes_LE']=le.fit_transform(df2['Front_Brakes'])\n",
    "df2['Rear_Brakes_LE']=le.fit_transform(df2['Rear_Brakes'])\n",
    "df2['Front_Suspension_LE']=le.fit_transform(df2['Front_Suspension'])\n",
    "df2['Rear_Suspension_LE']=le.fit_transform(df2['Rear_Suspension'])\n",
    "df2['Power_Steering_LE']=le.fit_transform(df2['Power_Steering'])\n",
    "df2['Power_Windows_LE']=le.fit_transform(df2['Power_Windows'])\n",
    "df2['Wheels_Size_LE']=le.fit_transform(df2['Wheels_Size'])\n",
    "df2['Handbrake_LE']=le.fit_transform(df2['Handbrake'])\n",
    "df2['Sun_Visor_LE']=le.fit_transform(df2['Sun_Visor'])\n",
    "df2['Ventilation_System_LE']=le.fit_transform(df2['Ventilation_System'])\n"
   ]
  },
  {
   "cell_type": "code",
   "execution_count": 26,
   "id": "1dc45f02",
   "metadata": {},
   "outputs": [
    {
     "data": {
      "text/plain": [
       "Index(['Make', 'Model', 'Variant', 'Cylinder_Configuration', 'Drivetrain',\n",
       "       'Engine_Location', 'Front_Brakes', 'Rear_Brakes', 'Front_Suspension',\n",
       "       'Rear_Suspension', 'Power_Steering', 'Power_Windows', 'Type',\n",
       "       'Wheels_Size', 'Handbrake', 'Sun_Visor', 'Height', 'Doors', 'Length',\n",
       "       'Ventilation_System', 'Ex-Showroom_Price', 'Make_LE', 'Model_LE',\n",
       "       'Variant_LE', 'Cylinder_Configuration_LE', 'Drivetrain_LE',\n",
       "       'Engine_Location_LE', 'Type_LE', 'Front_Brakes_LE', 'Rear_Brakes_LE',\n",
       "       'Front_Suspension_LE', 'Rear_Suspension_LE', 'Power_Steering_LE',\n",
       "       'Power_Windows_LE', 'Wheels_Size_LE', 'Handbrake_LE', 'Sun_Visor_LE',\n",
       "       'Ventilation_System_LE'],\n",
       "      dtype='object')"
      ]
     },
     "execution_count": 26,
     "metadata": {},
     "output_type": "execute_result"
    }
   ],
   "source": [
    "df2.columns"
   ]
  },
  {
   "cell_type": "code",
   "execution_count": 27,
   "id": "7ee7bcc8",
   "metadata": {},
   "outputs": [
    {
     "data": {
      "image/png": "[encoded data removed]",
      "text/plain": [
       "<Figure size 1440x720 with 2 Axes>"
      ]
     },
     "metadata": {
      "needs_background": "light"
     },
     "output_type": "display_data"
    }
   ],
   "source": [
    "corr = df2.corr()\n",
    "plt.figure(figsize=(20,10))\n",
    "a = sns.heatmap(corr, annot=True, fmt='.2f', cmap=\"YlGnBu\")"
   ]
  },
  {
   "cell_type": "code",
   "execution_count": 28,
   "id": "97f19673",
   "metadata": {},
   "outputs": [
    {
     "name": "stdout",
     "output_type": "stream",
     "text": [
      "<class 'pandas.core.frame.DataFrame'>\n",
      "RangeIndex: 1276 entries, 0 to 1275\n",
      "Data columns (total 38 columns):\n",
      " #   Column                     Non-Null Count  Dtype  \n",
      "---  ------                     --------------  -----  \n",
      " 0   Make                       1276 non-null   object \n",
      " 1   Model                      1276 non-null   object \n",
      " 2   Variant                    1276 non-null   object \n",
      " 3   Cylinder_Configuration     1276 non-null   object \n",
      " 4   Drivetrain                 1276 non-null   object \n",
      " 5   Engine_Location            1276 non-null   object \n",
      " 6   Front_Brakes               1276 non-null   object \n",
      " 7   Rear_Brakes                1276 non-null   object \n",
      " 8   Front_Suspension           1276 non-null   object \n",
      " 9   Rear_Suspension            1276 non-null   object \n",
      " 10  Power_Steering             1276 non-null   object \n",
      " 11  Power_Windows              1276 non-null   object \n",
      " 12  Type                       1276 non-null   object \n",
      " 13  Wheels_Size                1276 non-null   object \n",
      " 14  Handbrake                  1276 non-null   object \n",
      " 15  Sun_Visor                  1276 non-null   object \n",
      " 16  Height                     1276 non-null   float64\n",
      " 17  Doors                      1276 non-null   float64\n",
      " 18  Length                     1276 non-null   float64\n",
      " 19  Ventilation_System         1276 non-null   object \n",
      " 20  Ex-Showroom_Price          1276 non-null   int64  \n",
      " 21  Make_LE                    1276 non-null   int32  \n",
      " 22  Model_LE                   1276 non-null   int32  \n",
      " 23  Variant_LE                 1276 non-null   int32  \n",
      " 24  Cylinder_Configuration_LE  1276 non-null   int32  \n",
      " 25  Drivetrain_LE              1276 non-null   int32  \n",
      " 26  Engine_Location_LE         1276 non-null   int32  \n",
      " 27  Type_LE                    1276 non-null   int32  \n",
      " 28  Front_Brakes_LE            1276 non-null   int32  \n",
      " 29  Rear_Brakes_LE             1276 non-null   int32  \n",
      " 30  Front_Suspension_LE        1276 non-null   int32  \n",
      " 31  Rear_Suspension_LE         1276 non-null   int32  \n",
      " 32  Power_Steering_LE          1276 non-null   int32  \n",
      " 33  Power_Windows_LE           1276 non-null   int32  \n",
      " 34  Wheels_Size_LE             1276 non-null   int32  \n",
      " 35  Handbrake_LE               1276 non-null   int32  \n",
      " 36  Sun_Visor_LE               1276 non-null   int32  \n",
      " 37  Ventilation_System_LE      1276 non-null   int32  \n",
      "dtypes: float64(3), int32(17), int64(1), object(17)\n",
      "memory usage: 294.2+ KB\n"
     ]
    }
   ],
   "source": [
    "df2.info()"
   ]
  },
  {
   "cell_type": "code",
   "execution_count": 29,
   "id": "778ce813",
   "metadata": {},
   "outputs": [
    {
     "name": "stderr",
     "output_type": "stream",
     "text": [
      "C:\\Users\\anwes\\AppData\\Local\\Temp\\ipykernel_6620\\4257916927.py:1: SettingWithCopyWarning: \n",
      "A value is trying to be set on a copy of a slice from a DataFrame.\n",
      "Try using .loc[row_indexer,col_indexer] = value instead\n",
      "\n",
      "See the caveats in the documentation: https://pandas.pydata.org/pandas-docs/stable/user_guide/indexing.html#returning-a-view-versus-a-copy\n",
      "  df2['Displacement'] = df['Displacement']\n",
      "C:\\Users\\anwes\\AppData\\Local\\Temp\\ipykernel_6620\\4257916927.py:2: SettingWithCopyWarning: \n",
      "A value is trying to be set on a copy of a slice from a DataFrame.\n",
      "Try using .loc[row_indexer,col_indexer] = value instead\n",
      "\n",
      "See the caveats in the documentation: https://pandas.pydata.org/pandas-docs/stable/user_guide/indexing.html#returning-a-view-versus-a-copy\n",
      "  df2['Cylinders'] = df['Cylinders']\n",
      "C:\\Users\\anwes\\AppData\\Local\\Temp\\ipykernel_6620\\4257916927.py:3: SettingWithCopyWarning: \n",
      "A value is trying to be set on a copy of a slice from a DataFrame.\n",
      "Try using .loc[row_indexer,col_indexer] = value instead\n",
      "\n",
      "See the caveats in the documentation: https://pandas.pydata.org/pandas-docs/stable/user_guide/indexing.html#returning-a-view-versus-a-copy\n",
      "  df2['Number_of_Airbags'] = df['Number_of_Airbags']\n",
      "C:\\Users\\anwes\\AppData\\Local\\Temp\\ipykernel_6620\\4257916927.py:4: SettingWithCopyWarning: \n",
      "A value is trying to be set on a copy of a slice from a DataFrame.\n",
      "Try using .loc[row_indexer,col_indexer] = value instead\n",
      "\n",
      "See the caveats in the documentation: https://pandas.pydata.org/pandas-docs/stable/user_guide/indexing.html#returning-a-view-versus-a-copy\n",
      "  df2['Torque'] = df['Torque']\n"
     ]
    }
   ],
   "source": [
    "df2['Displacement'] = df['Displacement']\n",
    "df2['Cylinders'] = df['Cylinders']\n",
    "df2['Number_of_Airbags'] = df['Number_of_Airbags']\n",
    "df2['Torque'] = df['Torque']"
   ]
  },
  {
   "cell_type": "code",
   "execution_count": 30,
   "id": "d36df5bb",
   "metadata": {},
   "outputs": [
    {
     "name": "stderr",
     "output_type": "stream",
     "text": [
      "C:\\Users\\anwes\\AppData\\Local\\Temp\\ipykernel_6620\\1029131675.py:1: SettingWithCopyWarning: \n",
      "A value is trying to be set on a copy of a slice from a DataFrame.\n",
      "Try using .loc[row_indexer,col_indexer] = value instead\n",
      "\n",
      "See the caveats in the documentation: https://pandas.pydata.org/pandas-docs/stable/user_guide/indexing.html#returning-a-view-versus-a-copy\n",
      "  df2.Displacement = df2.Displacement.str.replace('cc',' ')\n"
     ]
    }
   ],
   "source": [
    "df2.Displacement = df2.Displacement.str.replace('cc',' ')"
   ]
  },
  {
   "cell_type": "code",
   "execution_count": 31,
   "id": "aff47d44",
   "metadata": {},
   "outputs": [
    {
     "name": "stderr",
     "output_type": "stream",
     "text": [
      "C:\\Users\\anwes\\AppData\\Local\\Temp\\ipykernel_6620\\1008681361.py:1: SettingWithCopyWarning: \n",
      "A value is trying to be set on a copy of a slice from a DataFrame.\n",
      "Try using .loc[row_indexer,col_indexer] = value instead\n",
      "\n",
      "See the caveats in the documentation: https://pandas.pydata.org/pandas-docs/stable/user_guide/indexing.html#returning-a-view-versus-a-copy\n",
      "  df2.Displacement=pd.to_numeric(df2.Displacement,errors='coerce')\n"
     ]
    }
   ],
   "source": [
    "df2.Displacement=pd.to_numeric(df2.Displacement,errors='coerce')"
   ]
  },
  {
   "cell_type": "code",
   "execution_count": 32,
   "id": "7f49e6c9",
   "metadata": {},
   "outputs": [
    {
     "name": "stderr",
     "output_type": "stream",
     "text": [
      "C:\\Users\\anwes\\AppData\\Local\\Temp\\ipykernel_6620\\1948205534.py:1: SettingWithCopyWarning: \n",
      "A value is trying to be set on a copy of a slice from a DataFrame.\n",
      "Try using .loc[row_indexer,col_indexer] = value instead\n",
      "\n",
      "See the caveats in the documentation: https://pandas.pydata.org/pandas-docs/stable/user_guide/indexing.html#returning-a-view-versus-a-copy\n",
      "  df2.Displacement=df2['Displacement'].fillna(1197.0)\n"
     ]
    }
   ],
   "source": [
    "df2.Displacement=df2['Displacement'].fillna(1197.0)"
   ]
  },
  {
   "cell_type": "code",
   "execution_count": 33,
   "id": "bfcd59fb",
   "metadata": {},
   "outputs": [
    {
     "name": "stderr",
     "output_type": "stream",
     "text": [
      "C:\\Users\\anwes\\AppData\\Local\\Temp\\ipykernel_6620\\3157806145.py:1: SettingWithCopyWarning: \n",
      "A value is trying to be set on a copy of a slice from a DataFrame\n",
      "\n",
      "See the caveats in the documentation: https://pandas.pydata.org/pandas-docs/stable/user_guide/indexing.html#returning-a-view-versus-a-copy\n",
      "  df2.Cylinders.fillna(4,inplace=True)\n"
     ]
    }
   ],
   "source": [
    "df2.Cylinders.fillna(4,inplace=True)"
   ]
  },
  {
   "cell_type": "code",
   "execution_count": 34,
   "id": "8cd8acf3",
   "metadata": {},
   "outputs": [
    {
     "name": "stderr",
     "output_type": "stream",
     "text": [
      "C:\\Users\\anwes\\AppData\\Local\\Temp\\ipykernel_6620\\1659218270.py:1: SettingWithCopyWarning: \n",
      "A value is trying to be set on a copy of a slice from a DataFrame\n",
      "\n",
      "See the caveats in the documentation: https://pandas.pydata.org/pandas-docs/stable/user_guide/indexing.html#returning-a-view-versus-a-copy\n",
      "  df2['Number_of_Airbags'].fillna(4,inplace=True)\n"
     ]
    }
   ],
   "source": [
    "df2['Number_of_Airbags'].fillna(4,inplace=True)"
   ]
  },
  {
   "cell_type": "code",
   "execution_count": 35,
   "id": "c98679f4",
   "metadata": {},
   "outputs": [
    {
     "name": "stderr",
     "output_type": "stream",
     "text": [
      "C:\\Users\\anwes\\AppData\\Local\\Temp\\ipykernel_6620\\4223804849.py:1: SettingWithCopyWarning: \n",
      "A value is trying to be set on a copy of a slice from a DataFrame.\n",
      "Try using .loc[row_indexer,col_indexer] = value instead\n",
      "\n",
      "See the caveats in the documentation: https://pandas.pydata.org/pandas-docs/stable/user_guide/indexing.html#returning-a-view-versus-a-copy\n",
      "  df2.Torque = df2.Torque.fillna('200Nm@1750rpm')\n"
     ]
    }
   ],
   "source": [
    "df2.Torque = df2.Torque.fillna('200Nm@1750rpm')"
   ]
  },
  {
   "cell_type": "code",
   "execution_count": 36,
   "id": "287681ba",
   "metadata": {},
   "outputs": [
    {
     "name": "stderr",
     "output_type": "stream",
     "text": [
      "C:\\Users\\anwes\\AppData\\Local\\Temp\\ipykernel_6620\\3385835507.py:1: SettingWithCopyWarning: \n",
      "A value is trying to be set on a copy of a slice from a DataFrame.\n",
      "Try using .loc[row_indexer,col_indexer] = value instead\n",
      "\n",
      "See the caveats in the documentation: https://pandas.pydata.org/pandas-docs/stable/user_guide/indexing.html#returning-a-view-versus-a-copy\n",
      "  df2['Torque_LE'] = le.fit_transform(df2['Torque'])\n"
     ]
    }
   ],
   "source": [
    "df2['Torque_LE'] = le.fit_transform(df2['Torque'])"
   ]
  },
  {
   "cell_type": "code",
   "execution_count": 37,
   "id": "5dfee3ad",
   "metadata": {},
   "outputs": [
    {
     "data": {
      "text/plain": [
       "4    726\n",
       "1    522\n",
       "0     18\n",
       "3      7\n",
       "2      3\n",
       "Name: Type_LE, dtype: int64"
      ]
     },
     "execution_count": 37,
     "metadata": {},
     "output_type": "execute_result"
    }
   ],
   "source": [
    "df2['Type_LE'].value_counts()"
   ]
  },
  {
   "cell_type": "code",
   "execution_count": 39,
   "id": "667c5c9b",
   "metadata": {},
   "outputs": [
    {
     "data": {
      "text/html": [
       "<div>\n",
       "<style scoped>\n",
       "    .dataframe tbody tr th:only-of-type {\n",
       "        vertical-align: middle;\n",
       "    }\n",
       "\n",
       "    .dataframe tbody tr th {\n",
       "        vertical-align: top;\n",
       "    }\n",
       "\n",
       "    .dataframe thead th {\n",
       "        text-align: right;\n",
       "    }\n",
       "</style>\n",
       "<table border=\"1\" class=\"dataframe\">\n",
       "  <thead>\n",
       "    <tr style=\"text-align: right;\">\n",
       "      <th></th>\n",
       "      <th>Cylinder_Configuration_LE</th>\n",
       "      <th>Engine_Location_LE</th>\n",
       "      <th>Type_LE</th>\n",
       "      <th>Doors</th>\n",
       "      <th>Handbrake_LE</th>\n",
       "      <th>Front_Suspension_LE</th>\n",
       "      <th>Wheels_Size_LE</th>\n",
       "      <th>Height</th>\n",
       "      <th>Length</th>\n",
       "      <th>Displacement</th>\n",
       "      <th>Cylinders</th>\n",
       "      <th>Number_of_Airbags</th>\n",
       "      <th>Torque_LE</th>\n",
       "    </tr>\n",
       "  </thead>\n",
       "  <tbody>\n",
       "    <tr>\n",
       "      <th>0</th>\n",
       "      <td>1</td>\n",
       "      <td>6</td>\n",
       "      <td>4</td>\n",
       "      <td>5.0</td>\n",
       "      <td>1</td>\n",
       "      <td>77</td>\n",
       "      <td>186</td>\n",
       "      <td>1652.0</td>\n",
       "      <td>3164.0</td>\n",
       "      <td>624.0</td>\n",
       "      <td>2.0</td>\n",
       "      <td>4.0</td>\n",
       "      <td>248</td>\n",
       "    </tr>\n",
       "    <tr>\n",
       "      <th>1</th>\n",
       "      <td>1</td>\n",
       "      <td>6</td>\n",
       "      <td>4</td>\n",
       "      <td>5.0</td>\n",
       "      <td>1</td>\n",
       "      <td>77</td>\n",
       "      <td>186</td>\n",
       "      <td>1652.0</td>\n",
       "      <td>3164.0</td>\n",
       "      <td>624.0</td>\n",
       "      <td>2.0</td>\n",
       "      <td>4.0</td>\n",
       "      <td>248</td>\n",
       "    </tr>\n",
       "    <tr>\n",
       "      <th>2</th>\n",
       "      <td>1</td>\n",
       "      <td>6</td>\n",
       "      <td>4</td>\n",
       "      <td>4.0</td>\n",
       "      <td>1</td>\n",
       "      <td>77</td>\n",
       "      <td>186</td>\n",
       "      <td>1652.0</td>\n",
       "      <td>3164.0</td>\n",
       "      <td>624.0</td>\n",
       "      <td>2.0</td>\n",
       "      <td>4.0</td>\n",
       "      <td>248</td>\n",
       "    </tr>\n",
       "    <tr>\n",
       "      <th>3</th>\n",
       "      <td>1</td>\n",
       "      <td>6</td>\n",
       "      <td>1</td>\n",
       "      <td>5.0</td>\n",
       "      <td>1</td>\n",
       "      <td>77</td>\n",
       "      <td>186</td>\n",
       "      <td>1652.0</td>\n",
       "      <td>3164.0</td>\n",
       "      <td>624.0</td>\n",
       "      <td>2.0</td>\n",
       "      <td>4.0</td>\n",
       "      <td>248</td>\n",
       "    </tr>\n",
       "    <tr>\n",
       "      <th>4</th>\n",
       "      <td>1</td>\n",
       "      <td>6</td>\n",
       "      <td>4</td>\n",
       "      <td>5.0</td>\n",
       "      <td>1</td>\n",
       "      <td>77</td>\n",
       "      <td>186</td>\n",
       "      <td>1652.0</td>\n",
       "      <td>3164.0</td>\n",
       "      <td>624.0</td>\n",
       "      <td>2.0</td>\n",
       "      <td>4.0</td>\n",
       "      <td>248</td>\n",
       "    </tr>\n",
       "    <tr>\n",
       "      <th>...</th>\n",
       "      <td>...</td>\n",
       "      <td>...</td>\n",
       "      <td>...</td>\n",
       "      <td>...</td>\n",
       "      <td>...</td>\n",
       "      <td>...</td>\n",
       "      <td>...</td>\n",
       "      <td>...</td>\n",
       "      <td>...</td>\n",
       "      <td>...</td>\n",
       "      <td>...</td>\n",
       "      <td>...</td>\n",
       "      <td>...</td>\n",
       "    </tr>\n",
       "    <tr>\n",
       "      <th>1271</th>\n",
       "      <td>1</td>\n",
       "      <td>1</td>\n",
       "      <td>4</td>\n",
       "      <td>4.0</td>\n",
       "      <td>1</td>\n",
       "      <td>106</td>\n",
       "      <td>37</td>\n",
       "      <td>1495.0</td>\n",
       "      <td>4440.0</td>\n",
       "      <td>1498.0</td>\n",
       "      <td>4.0</td>\n",
       "      <td>2.0</td>\n",
       "      <td>83</td>\n",
       "    </tr>\n",
       "    <tr>\n",
       "      <th>1272</th>\n",
       "      <td>1</td>\n",
       "      <td>1</td>\n",
       "      <td>4</td>\n",
       "      <td>4.0</td>\n",
       "      <td>1</td>\n",
       "      <td>106</td>\n",
       "      <td>37</td>\n",
       "      <td>1495.0</td>\n",
       "      <td>4440.0</td>\n",
       "      <td>1498.0</td>\n",
       "      <td>4.0</td>\n",
       "      <td>6.0</td>\n",
       "      <td>83</td>\n",
       "    </tr>\n",
       "    <tr>\n",
       "      <th>1273</th>\n",
       "      <td>1</td>\n",
       "      <td>1</td>\n",
       "      <td>1</td>\n",
       "      <td>4.0</td>\n",
       "      <td>1</td>\n",
       "      <td>112</td>\n",
       "      <td>37</td>\n",
       "      <td>1495.0</td>\n",
       "      <td>4440.0</td>\n",
       "      <td>1497.0</td>\n",
       "      <td>4.0</td>\n",
       "      <td>6.0</td>\n",
       "      <td>40</td>\n",
       "    </tr>\n",
       "    <tr>\n",
       "      <th>1274</th>\n",
       "      <td>1</td>\n",
       "      <td>1</td>\n",
       "      <td>1</td>\n",
       "      <td>4.0</td>\n",
       "      <td>1</td>\n",
       "      <td>106</td>\n",
       "      <td>32</td>\n",
       "      <td>1495.0</td>\n",
       "      <td>4440.0</td>\n",
       "      <td>1497.0</td>\n",
       "      <td>4.0</td>\n",
       "      <td>2.0</td>\n",
       "      <td>40</td>\n",
       "    </tr>\n",
       "    <tr>\n",
       "      <th>1275</th>\n",
       "      <td>1</td>\n",
       "      <td>0</td>\n",
       "      <td>1</td>\n",
       "      <td>5.0</td>\n",
       "      <td>1</td>\n",
       "      <td>32</td>\n",
       "      <td>36</td>\n",
       "      <td>1900.0</td>\n",
       "      <td>4900.0</td>\n",
       "      <td>3200.0</td>\n",
       "      <td>4.0</td>\n",
       "      <td>6.0</td>\n",
       "      <td>220</td>\n",
       "    </tr>\n",
       "  </tbody>\n",
       "</table>\n",
       "<p>1276 rows × 13 columns</p>\n",
       "</div>"
      ],
      "text/plain": [
       "      Cylinder_Configuration_LE  Engine_Location_LE  Type_LE  Doors  \\\n",
       "0                             1                   6        4    5.0   \n",
       "1                             1                   6        4    5.0   \n",
       "2                             1                   6        4    4.0   \n",
       "3                             1                   6        1    5.0   \n",
       "4                             1                   6        4    5.0   \n",
       "...                         ...                 ...      ...    ...   \n",
       "1271                          1                   1        4    4.0   \n",
       "1272                          1                   1        4    4.0   \n",
       "1273                          1                   1        1    4.0   \n",
       "1274                          1                   1        1    4.0   \n",
       "1275                          1                   0        1    5.0   \n",
       "\n",
       "      Handbrake_LE  Front_Suspension_LE  Wheels_Size_LE  Height  Length  \\\n",
       "0                1                   77             186  1652.0  3164.0   \n",
       "1                1                   77             186  1652.0  3164.0   \n",
       "2                1                   77             186  1652.0  3164.0   \n",
       "3                1                   77             186  1652.0  3164.0   \n",
       "4                1                   77             186  1652.0  3164.0   \n",
       "...            ...                  ...             ...     ...     ...   \n",
       "1271             1                  106              37  1495.0  4440.0   \n",
       "1272             1                  106              37  1495.0  4440.0   \n",
       "1273             1                  112              37  1495.0  4440.0   \n",
       "1274             1                  106              32  1495.0  4440.0   \n",
       "1275             1                   32              36  1900.0  4900.0   \n",
       "\n",
       "      Displacement  Cylinders  Number_of_Airbags  Torque_LE  \n",
       "0            624.0        2.0                4.0        248  \n",
       "1            624.0        2.0                4.0        248  \n",
       "2            624.0        2.0                4.0        248  \n",
       "3            624.0        2.0                4.0        248  \n",
       "4            624.0        2.0                4.0        248  \n",
       "...            ...        ...                ...        ...  \n",
       "1271        1498.0        4.0                2.0         83  \n",
       "1272        1498.0        4.0                6.0         83  \n",
       "1273        1497.0        4.0                6.0         40  \n",
       "1274        1497.0        4.0                2.0         40  \n",
       "1275        3200.0        4.0                6.0        220  \n",
       "\n",
       "[1276 rows x 13 columns]"
      ]
     },
     "execution_count": 39,
     "metadata": {},
     "output_type": "execute_result"
    }
   ],
   "source": [
    "main = df2[[  \n",
    "        'Cylinder_Configuration_LE', 'Engine_Location_LE',\n",
    "       'Type_LE', 'Doors',  'Handbrake_LE','Front_Suspension_LE',\n",
    "       'Wheels_Size_LE',  'Height','Length',\n",
    "        'Displacement', 'Cylinders', 'Number_of_Airbags', 'Torque_LE']]\n",
    "main"
   ]
  },
  {
   "cell_type": "code",
   "execution_count": 40,
   "id": "508c3f7b",
   "metadata": {},
   "outputs": [],
   "source": [
    "X = main\n",
    "Y = df2['Ex-Showroom_Price']"
   ]
  },
  {
   "cell_type": "code",
   "execution_count": 41,
   "id": "737ee073",
   "metadata": {},
   "outputs": [
    {
     "data": {
      "text/plain": [
       "Index(['Cylinder_Configuration_LE', 'Engine_Location_LE', 'Type_LE', 'Doors',\n",
       "       'Handbrake_LE', 'Front_Suspension_LE', 'Wheels_Size_LE', 'Height',\n",
       "       'Length', 'Displacement', 'Cylinders', 'Number_of_Airbags',\n",
       "       'Torque_LE'],\n",
       "      dtype='object')"
      ]
     },
     "execution_count": 41,
     "metadata": {},
     "output_type": "execute_result"
    }
   ],
   "source": [
    "from sklearn.preprocessing import scale\n",
    "cols = X.columns\n",
    "X = pd.DataFrame(scale(X))\n",
    "X.columns = cols\n",
    "X.columns"
   ]
  },
  {
   "cell_type": "code",
   "execution_count": 42,
   "id": "263069b4",
   "metadata": {},
   "outputs": [
    {
     "data": {
      "text/html": [
       "<div>\n",
       "<style scoped>\n",
       "    .dataframe tbody tr th:only-of-type {\n",
       "        vertical-align: middle;\n",
       "    }\n",
       "\n",
       "    .dataframe tbody tr th {\n",
       "        vertical-align: top;\n",
       "    }\n",
       "\n",
       "    .dataframe thead th {\n",
       "        text-align: right;\n",
       "    }\n",
       "</style>\n",
       "<table border=\"1\" class=\"dataframe\">\n",
       "  <thead>\n",
       "    <tr style=\"text-align: right;\">\n",
       "      <th></th>\n",
       "      <th>Cylinder_Configuration_LE</th>\n",
       "      <th>Engine_Location_LE</th>\n",
       "      <th>Type_LE</th>\n",
       "      <th>Doors</th>\n",
       "      <th>Handbrake_LE</th>\n",
       "      <th>Front_Suspension_LE</th>\n",
       "      <th>Wheels_Size_LE</th>\n",
       "      <th>Height</th>\n",
       "      <th>Length</th>\n",
       "      <th>Displacement</th>\n",
       "      <th>Cylinders</th>\n",
       "      <th>Number_of_Airbags</th>\n",
       "      <th>Torque_LE</th>\n",
       "    </tr>\n",
       "  </thead>\n",
       "  <tbody>\n",
       "    <tr>\n",
       "      <th>0</th>\n",
       "      <td>-0.386664</td>\n",
       "      <td>6.682085</td>\n",
       "      <td>0.862923</td>\n",
       "      <td>0.600284</td>\n",
       "      <td>0.561662</td>\n",
       "      <td>-0.022157</td>\n",
       "      <td>1.837847</td>\n",
       "      <td>0.386310</td>\n",
       "      <td>-2.377879</td>\n",
       "      <td>-1.159421</td>\n",
       "      <td>-1.458517</td>\n",
       "      <td>0.079846</td>\n",
       "      <td>1.136119</td>\n",
       "    </tr>\n",
       "    <tr>\n",
       "      <th>1</th>\n",
       "      <td>-0.386664</td>\n",
       "      <td>6.682085</td>\n",
       "      <td>0.862923</td>\n",
       "      <td>0.600284</td>\n",
       "      <td>0.561662</td>\n",
       "      <td>-0.022157</td>\n",
       "      <td>1.837847</td>\n",
       "      <td>0.386310</td>\n",
       "      <td>-2.377879</td>\n",
       "      <td>-1.159421</td>\n",
       "      <td>-1.458517</td>\n",
       "      <td>0.079846</td>\n",
       "      <td>1.136119</td>\n",
       "    </tr>\n",
       "    <tr>\n",
       "      <th>2</th>\n",
       "      <td>-0.386664</td>\n",
       "      <td>6.682085</td>\n",
       "      <td>0.862923</td>\n",
       "      <td>-0.738811</td>\n",
       "      <td>0.561662</td>\n",
       "      <td>-0.022157</td>\n",
       "      <td>1.837847</td>\n",
       "      <td>0.386310</td>\n",
       "      <td>-2.377879</td>\n",
       "      <td>-1.159421</td>\n",
       "      <td>-1.458517</td>\n",
       "      <td>0.079846</td>\n",
       "      <td>1.136119</td>\n",
       "    </tr>\n",
       "    <tr>\n",
       "      <th>3</th>\n",
       "      <td>-0.386664</td>\n",
       "      <td>6.682085</td>\n",
       "      <td>-1.137846</td>\n",
       "      <td>0.600284</td>\n",
       "      <td>0.561662</td>\n",
       "      <td>-0.022157</td>\n",
       "      <td>1.837847</td>\n",
       "      <td>0.386310</td>\n",
       "      <td>-2.377879</td>\n",
       "      <td>-1.159421</td>\n",
       "      <td>-1.458517</td>\n",
       "      <td>0.079846</td>\n",
       "      <td>1.136119</td>\n",
       "    </tr>\n",
       "    <tr>\n",
       "      <th>4</th>\n",
       "      <td>-0.386664</td>\n",
       "      <td>6.682085</td>\n",
       "      <td>0.862923</td>\n",
       "      <td>0.600284</td>\n",
       "      <td>0.561662</td>\n",
       "      <td>-0.022157</td>\n",
       "      <td>1.837847</td>\n",
       "      <td>0.386310</td>\n",
       "      <td>-2.377879</td>\n",
       "      <td>-1.159421</td>\n",
       "      <td>-1.458517</td>\n",
       "      <td>0.079846</td>\n",
       "      <td>1.136119</td>\n",
       "    </tr>\n",
       "    <tr>\n",
       "      <th>...</th>\n",
       "      <td>...</td>\n",
       "      <td>...</td>\n",
       "      <td>...</td>\n",
       "      <td>...</td>\n",
       "      <td>...</td>\n",
       "      <td>...</td>\n",
       "      <td>...</td>\n",
       "      <td>...</td>\n",
       "      <td>...</td>\n",
       "      <td>...</td>\n",
       "      <td>...</td>\n",
       "      <td>...</td>\n",
       "      <td>...</td>\n",
       "    </tr>\n",
       "    <tr>\n",
       "      <th>1271</th>\n",
       "      <td>-0.386664</td>\n",
       "      <td>0.305821</td>\n",
       "      <td>0.862923</td>\n",
       "      <td>-0.738811</td>\n",
       "      <td>0.561662</td>\n",
       "      <td>0.859459</td>\n",
       "      <td>-0.713344</td>\n",
       "      <td>-0.608588</td>\n",
       "      <td>0.300395</td>\n",
       "      <td>-0.334621</td>\n",
       "      <td>-0.223158</td>\n",
       "      <td>-0.758697</td>\n",
       "      <td>-0.521011</td>\n",
       "    </tr>\n",
       "    <tr>\n",
       "      <th>1272</th>\n",
       "      <td>-0.386664</td>\n",
       "      <td>0.305821</td>\n",
       "      <td>0.862923</td>\n",
       "      <td>-0.738811</td>\n",
       "      <td>0.561662</td>\n",
       "      <td>0.859459</td>\n",
       "      <td>-0.713344</td>\n",
       "      <td>-0.608588</td>\n",
       "      <td>0.300395</td>\n",
       "      <td>-0.334621</td>\n",
       "      <td>-0.223158</td>\n",
       "      <td>0.918388</td>\n",
       "      <td>-0.521011</td>\n",
       "    </tr>\n",
       "    <tr>\n",
       "      <th>1273</th>\n",
       "      <td>-0.386664</td>\n",
       "      <td>0.305821</td>\n",
       "      <td>-1.137846</td>\n",
       "      <td>-0.738811</td>\n",
       "      <td>0.561662</td>\n",
       "      <td>1.041862</td>\n",
       "      <td>-0.713344</td>\n",
       "      <td>-0.608588</td>\n",
       "      <td>0.300395</td>\n",
       "      <td>-0.335564</td>\n",
       "      <td>-0.223158</td>\n",
       "      <td>0.918388</td>\n",
       "      <td>-0.952869</td>\n",
       "    </tr>\n",
       "    <tr>\n",
       "      <th>1274</th>\n",
       "      <td>-0.386664</td>\n",
       "      <td>0.305821</td>\n",
       "      <td>-1.137846</td>\n",
       "      <td>-0.738811</td>\n",
       "      <td>0.561662</td>\n",
       "      <td>0.859459</td>\n",
       "      <td>-0.798955</td>\n",
       "      <td>-0.608588</td>\n",
       "      <td>0.300395</td>\n",
       "      <td>-0.335564</td>\n",
       "      <td>-0.223158</td>\n",
       "      <td>-0.758697</td>\n",
       "      <td>-0.952869</td>\n",
       "    </tr>\n",
       "    <tr>\n",
       "      <th>1275</th>\n",
       "      <td>-0.386664</td>\n",
       "      <td>-0.969432</td>\n",
       "      <td>-1.137846</td>\n",
       "      <td>0.600284</td>\n",
       "      <td>0.561662</td>\n",
       "      <td>-1.390181</td>\n",
       "      <td>-0.730466</td>\n",
       "      <td>1.957870</td>\n",
       "      <td>1.265918</td>\n",
       "      <td>1.271570</td>\n",
       "      <td>-0.223158</td>\n",
       "      <td>0.918388</td>\n",
       "      <td>0.854909</td>\n",
       "    </tr>\n",
       "  </tbody>\n",
       "</table>\n",
       "<p>1276 rows × 13 columns</p>\n",
       "</div>"
      ],
      "text/plain": [
       "      Cylinder_Configuration_LE  Engine_Location_LE   Type_LE     Doors  \\\n",
       "0                     -0.386664            6.682085  0.862923  0.600284   \n",
       "1                     -0.386664            6.682085  0.862923  0.600284   \n",
       "2                     -0.386664            6.682085  0.862923 -0.738811   \n",
       "3                     -0.386664            6.682085 -1.137846  0.600284   \n",
       "4                     -0.386664            6.682085  0.862923  0.600284   \n",
       "...                         ...                 ...       ...       ...   \n",
       "1271                  -0.386664            0.305821  0.862923 -0.738811   \n",
       "1272                  -0.386664            0.305821  0.862923 -0.738811   \n",
       "1273                  -0.386664            0.305821 -1.137846 -0.738811   \n",
       "1274                  -0.386664            0.305821 -1.137846 -0.738811   \n",
       "1275                  -0.386664           -0.969432 -1.137846  0.600284   \n",
       "\n",
       "      Handbrake_LE  Front_Suspension_LE  Wheels_Size_LE    Height    Length  \\\n",
       "0         0.561662            -0.022157        1.837847  0.386310 -2.377879   \n",
       "1         0.561662            -0.022157        1.837847  0.386310 -2.377879   \n",
       "2         0.561662            -0.022157        1.837847  0.386310 -2.377879   \n",
       "3         0.561662            -0.022157        1.837847  0.386310 -2.377879   \n",
       "4         0.561662            -0.022157        1.837847  0.386310 -2.377879   \n",
       "...            ...                  ...             ...       ...       ...   \n",
       "1271      0.561662             0.859459       -0.713344 -0.608588  0.300395   \n",
       "1272      0.561662             0.859459       -0.713344 -0.608588  0.300395   \n",
       "1273      0.561662             1.041862       -0.713344 -0.608588  0.300395   \n",
       "1274      0.561662             0.859459       -0.798955 -0.608588  0.300395   \n",
       "1275      0.561662            -1.390181       -0.730466  1.957870  1.265918   \n",
       "\n",
       "      Displacement  Cylinders  Number_of_Airbags  Torque_LE  \n",
       "0        -1.159421  -1.458517           0.079846   1.136119  \n",
       "1        -1.159421  -1.458517           0.079846   1.136119  \n",
       "2        -1.159421  -1.458517           0.079846   1.136119  \n",
       "3        -1.159421  -1.458517           0.079846   1.136119  \n",
       "4        -1.159421  -1.458517           0.079846   1.136119  \n",
       "...            ...        ...                ...        ...  \n",
       "1271     -0.334621  -0.223158          -0.758697  -0.521011  \n",
       "1272     -0.334621  -0.223158           0.918388  -0.521011  \n",
       "1273     -0.335564  -0.223158           0.918388  -0.952869  \n",
       "1274     -0.335564  -0.223158          -0.758697  -0.952869  \n",
       "1275      1.271570  -0.223158           0.918388   0.854909  \n",
       "\n",
       "[1276 rows x 13 columns]"
      ]
     },
     "execution_count": 42,
     "metadata": {},
     "output_type": "execute_result"
    }
   ],
   "source": [
    "X"
   ]
  },
  {
   "cell_type": "code",
   "execution_count": 43,
   "id": "5f856482",
   "metadata": {},
   "outputs": [],
   "source": [
    "from sklearn.model_selection import train_test_split\n",
    "X_train, X_test, Y_train, Y_test = train_test_split(X, Y, train_size=0.8, test_size = 0.2, random_state=100)"
   ]
  },
  {
   "cell_type": "markdown",
   "id": "1c9049c5",
   "metadata": {},
   "source": [
    "# DECISION TREE MODEL"
   ]
  },
  {
   "cell_type": "code",
   "execution_count": 45,
   "id": "f8ab7035",
   "metadata": {},
   "outputs": [],
   "source": [
    "from sklearn.tree import DecisionTreeRegressor"
   ]
  },
  {
   "cell_type": "code",
   "execution_count": 127,
   "id": "80c31b7d",
   "metadata": {},
   "outputs": [],
   "source": [
    "dr=DecisionTreeRegressor()"
   ]
  },
  {
   "cell_type": "code",
   "execution_count": 128,
   "id": "581802a6",
   "metadata": {},
   "outputs": [
    {
     "data": {
      "text/plain": [
       "DecisionTreeRegressor()"
      ]
     },
     "execution_count": 128,
     "metadata": {},
     "output_type": "execute_result"
    }
   ],
   "source": [
    "dr.fit(X_train,Y_train)"
   ]
  },
  {
   "cell_type": "code",
   "execution_count": 48,
   "id": "1fbaec72",
   "metadata": {},
   "outputs": [],
   "source": [
    "dr_pred=dr.predict(X_test)"
   ]
  },
  {
   "cell_type": "code",
   "execution_count": 49,
   "id": "88ca4bfa",
   "metadata": {},
   "outputs": [],
   "source": [
    "from sklearn import metrics"
   ]
  },
  {
   "cell_type": "code",
   "execution_count": 50,
   "id": "d2c7804d",
   "metadata": {},
   "outputs": [
    {
     "data": {
      "text/plain": [
       "0.9245607308210155"
      ]
     },
     "execution_count": 50,
     "metadata": {},
     "output_type": "execute_result"
    }
   ],
   "source": [
    "metrics.r2_score(Y_test,dr_pred)"
   ]
  },
  {
   "cell_type": "code",
   "execution_count": 77,
   "id": "0daccf9b",
   "metadata": {},
   "outputs": [
    {
     "data": {
      "image/png": "[encoded data removed]",
      "text/plain": [
       "<Figure size 720x576 with 1 Axes>"
      ]
     },
     "metadata": {
      "needs_background": "light"
     },
     "output_type": "display_data"
    }
   ],
   "source": [
    "x = [i for i in range(len(dr_pred))]\n",
    "plt.figure(figsize=(10, 8))\n",
    "plt.plot(x, Y_test, label=\"Test\", color = 'black')\n",
    "plt.plot(x, dr_pred, label=\"Predicted\", color = 'lime')\n",
    "plt.legend(loc='upper left')\n",
    "plt.title('Decision Tree Accuracy')\n",
    "plt.show() "
   ]
  },
  {
   "cell_type": "markdown",
   "id": "33597bb1",
   "metadata": {},
   "source": [
    "# LINEAR MODEL"
   ]
  },
  {
   "cell_type": "code",
   "execution_count": 52,
   "id": "93fea7db",
   "metadata": {},
   "outputs": [],
   "source": [
    "from sklearn.linear_model import LinearRegression"
   ]
  },
  {
   "cell_type": "code",
   "execution_count": 53,
   "id": "35080797",
   "metadata": {},
   "outputs": [
    {
     "data": {
      "text/plain": [
       "LinearRegression()"
      ]
     },
     "execution_count": 53,
     "metadata": {},
     "output_type": "execute_result"
    }
   ],
   "source": [
    "lr=LinearRegression()\n",
    "lr.fit(X_train,Y_train)"
   ]
  },
  {
   "cell_type": "code",
   "execution_count": 54,
   "id": "3d129deb",
   "metadata": {},
   "outputs": [],
   "source": [
    "lr_pred=lr.predict(X_test)"
   ]
  },
  {
   "cell_type": "code",
   "execution_count": 55,
   "id": "a2837be6",
   "metadata": {},
   "outputs": [
    {
     "data": {
      "text/plain": [
       "0.6538031367200752"
      ]
     },
     "execution_count": 55,
     "metadata": {},
     "output_type": "execute_result"
    }
   ],
   "source": [
    "metrics.r2_score(Y_test,lr_pred)"
   ]
  },
  {
   "cell_type": "code",
   "execution_count": 78,
   "id": "0516cfec",
   "metadata": {},
   "outputs": [
    {
     "data": {
      "image/png": "[encoded data removed]",
      "text/plain": [
       "<Figure size 720x576 with 1 Axes>"
      ]
     },
     "metadata": {
      "needs_background": "light"
     },
     "output_type": "display_data"
    }
   ],
   "source": [
    "l = [i for i in range(len(lr_pred))]\n",
    "plt.figure(figsize=(10, 8))\n",
    "plt.plot(l, Y_test, label=\"Test\", color = 'black')\n",
    "plt.plot(l, lr_pred, label=\"Predicted\", color = 'cyan')\n",
    "plt.legend(loc='upper left')\n",
    "plt.title('Linear Regression Accuracy')\n",
    "plt.show() "
   ]
  },
  {
   "cell_type": "markdown",
   "id": "5b665112",
   "metadata": {},
   "source": [
    "# RANDOM FOREST MODEL"
   ]
  },
  {
   "cell_type": "code",
   "execution_count": 114,
   "id": "8e97e7da",
   "metadata": {},
   "outputs": [
    {
     "data": {
      "text/plain": [
       "RandomForestRegressor(n_estimators=150)"
      ]
     },
     "execution_count": 114,
     "metadata": {},
     "output_type": "execute_result"
    }
   ],
   "source": [
    "from sklearn.ensemble import RandomForestRegressor\n",
    "rr = RandomForestRegressor(n_estimators=150)\n",
    "rr.fit(X_train, Y_train)"
   ]
  },
  {
   "cell_type": "code",
   "execution_count": 115,
   "id": "a1e8cac3",
   "metadata": {},
   "outputs": [],
   "source": [
    "rr_pred = rr.predict(X_test)"
   ]
  },
  {
   "cell_type": "code",
   "execution_count": 116,
   "id": "83a8eac1",
   "metadata": {},
   "outputs": [
    {
     "data": {
      "text/plain": [
       "0.9065395517410527"
      ]
     },
     "execution_count": 116,
     "metadata": {},
     "output_type": "execute_result"
    }
   ],
   "source": [
    "metrics.r2_score(Y_test,rr_pred)"
   ]
  },
  {
   "cell_type": "code",
   "execution_count": 83,
   "id": "3cfdb94e",
   "metadata": {},
   "outputs": [],
   "source": [
    "from sklearn.svm import SVR"
   ]
  },
  {
   "cell_type": "code",
   "execution_count": 84,
   "id": "347bc649",
   "metadata": {},
   "outputs": [],
   "source": [
    "svr=SVR()"
   ]
  },
  {
   "cell_type": "code",
   "execution_count": 85,
   "id": "878c0263",
   "metadata": {},
   "outputs": [
    {
     "data": {
      "text/plain": [
       "SVR()"
      ]
     },
     "execution_count": 85,
     "metadata": {},
     "output_type": "execute_result"
    }
   ],
   "source": [
    "svr.fit(X_train,Y_train)"
   ]
  },
  {
   "cell_type": "code",
   "execution_count": 86,
   "id": "30ce4c53",
   "metadata": {},
   "outputs": [],
   "source": [
    "sv_pred=svr.predict(X_test)"
   ]
  },
  {
   "cell_type": "code",
   "execution_count": 87,
   "id": "0f4a2fc9",
   "metadata": {},
   "outputs": [
    {
     "data": {
      "text/plain": [
       "-0.06471556766930875"
      ]
     },
     "execution_count": 87,
     "metadata": {},
     "output_type": "execute_result"
    }
   ],
   "source": [
    "metrics.r2_score(Y_test,sv_pred)"
   ]
  },
  {
   "cell_type": "code",
   "execution_count": 118,
   "id": "557bda7d",
   "metadata": {},
   "outputs": [
    {
     "data": {
      "image/png": "[encoded data removed]",
      "text/plain": [
       "<Figure size 720x576 with 1 Axes>"
      ]
     },
     "metadata": {
      "needs_background": "light"
     },
     "output_type": "display_data"
    }
   ],
   "source": [
    "s = [i for i in range(len(rr_pred))]\n",
    "plt.figure(figsize=(10, 8))\n",
    "plt.plot(s, Y_test, label=\"Test\", color = 'black')\n",
    "plt.plot(s, rr_pred, label=\"Predicted\", color = 'orange')\n",
    "plt.legend(loc='upper left')\n",
    "plt.title('Random Forest Accuracy')\n",
    "plt.show()"
   ]
  },
  {
   "cell_type": "code",
   "execution_count": null,
   "id": "afcde5a7",
   "metadata": {},
   "outputs": [],
   "source": []
  },
  {
   "cell_type": "code",
   "execution_count": null,
   "id": "78b2c0ff",
   "metadata": {},
   "outputs": [],
   "source": []
  },
  {
   "cell_type": "markdown",
   "id": "a2884366",
   "metadata": {},
   "source": [
    "# Error terms"
   ]
  },
  {
   "cell_type": "code",
   "execution_count": 119,
   "id": "d1b406c9",
   "metadata": {},
   "outputs": [
    {
     "data": {
      "image/png": "[encoded data removed]",
      "text/plain": [
       "<Figure size 432x288 with 1 Axes>"
      ]
     },
     "metadata": {
      "needs_background": "light"
     },
     "output_type": "display_data"
    }
   ],
   "source": [
    "c = [i for i in range(len(rr_pred))]\n",
    "fig = plt.figure()\n",
    "plt.plot(c,Y_test-rr_pred, color=\"black\", linewidth=2.5, linestyle=\"-\")\n",
    "fig.suptitle('Error Terms', fontsize=20)              \n",
    "plt.xlabel('Index', fontsize=18)                      \n",
    "plt.ylabel('Ytest-rr_pred', fontsize=16)                \n",
    "plt.show()"
   ]
  },
  {
   "cell_type": "code",
   "execution_count": 120,
   "id": "38ba9bab",
   "metadata": {},
   "outputs": [
    {
     "data": {
      "image/png": "[encoded data removed]",
      "text/plain": [
       "<Figure size 432x288 with 1 Axes>"
      ]
     },
     "metadata": {
      "needs_background": "light"
     },
     "output_type": "display_data"
    }
   ],
   "source": [
    "c = [i for i in range(len(dr_pred))]\n",
    "fig = plt.figure()\n",
    "plt.plot(c,Y_test-dr_pred, color=\"black\", linewidth=2.5, linestyle=\"-\")\n",
    "fig.suptitle('Error Terms', fontsize=20)              \n",
    "plt.xlabel('Index', fontsize=18)                      \n",
    "plt.ylabel('Ytest-dr_pred', fontsize=16)                \n",
    "plt.show()"
   ]
  },
  {
   "cell_type": "code",
   "execution_count": 121,
   "id": "e2892b0e",
   "metadata": {},
   "outputs": [],
   "source": [
    "from sklearn.model_selection import cross_val_score"
   ]
  },
  {
   "cell_type": "code",
   "execution_count": 122,
   "id": "849a0575",
   "metadata": {},
   "outputs": [
    {
     "data": {
      "text/plain": [
       "array([  -847155.64553852, -12004452.33668802,  -1716971.92531399,\n",
       "        -5847200.98082064,  -2932649.22099148])"
      ]
     },
     "execution_count": 122,
     "metadata": {},
     "output_type": "execute_result"
    }
   ],
   "source": [
    "cross_val_score(dr,X,Y,cv=5,scoring='neg_root_mean_squared_error')"
   ]
  }
 ],
 "metadata": {
  "kernelspec": {
   "display_name": "Python 3 (ipykernel)",
   "language": "python",
   "name": "python3"
  },
  "language_info": {
   "codemirror_mode": {
    "name": "ipython",
    "version": 3
   },
   "file_extension": ".py",
   "mimetype": "text/x-python",
   "name": "python",
   "nbconvert_exporter": "python",
   "pygments_lexer": "ipython3",
   "version": "3.9.12"
  }
 },
 "nbformat": 4,
 "nbformat_minor": 5
}
